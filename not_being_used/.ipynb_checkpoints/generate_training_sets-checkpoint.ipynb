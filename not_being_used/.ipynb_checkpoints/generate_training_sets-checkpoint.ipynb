{
 "cells": [
  {
   "cell_type": "code",
   "execution_count": 1,
   "metadata": {},
   "outputs": [],
   "source": [
    "import numpy as np\n",
    "import pandas as pd\n",
    "import matplotlib.pyplot as plt\n",
    "import auxiliary_project_functions as aux\n",
    "import qtLibrary.libquanttree as qt\n",
    "import pathlib\n"
   ]
  },
  {
   "cell_type": "markdown",
   "metadata": {},
   "source": [
    "<p> <strong> We want to: </strong><p>\n",
    "<p> 1) Store the settings in the file, or a file with a pointer from our filr (binsnumber, nu, alpaha, maxN, stat_used)<p>\n",
    "<p> 2) Generate multiple combinations of bins and N.<p>\n",
    "<p> 3) Associate to each combination a threshold by means of the normal MC or the auxilary MC.<p>\n",
    "<p>4) Save the result in a file<p>\n"
   ]
  },
  {
   "cell_type": "code",
   "execution_count": 2,
   "metadata": {},
   "outputs": [
    {
     "data": {
      "text/plain": [
       "{'Stat': <function qtLibrary.libquanttree.tv_statistic(histogram, data)>,\n",
       " 'nu': 64,\n",
       " 'bins_number': 16,\n",
       " 'file': 'Thresholds_TV_1.csv',\n",
       " 'B': 4000,\n",
       " 'alpha': [0.01],\n",
       " 'max_N': 6400}"
      ]
     },
     "execution_count": 2,
     "metadata": {},
     "output_type": "execute_result"
    }
   ],
   "source": [
    "#DESCRIPTION FILE\n",
    "\n",
    "statistic = qt.tv_statistic\n",
    "alpha = [0.01]\n",
    "nu = 64\n",
    "bins_number = 16\n",
    "B = 4000\n",
    "max_N = 400 * bins_number\n",
    "\n",
    "file = 'Thresholds_TV_1.csv'\n",
    "\n",
    "#Help dictionary will be stored in a file pointing to our file\n",
    "help_dictionary = {'Stat': statistic, 'nu': nu, 'bins_number': bins_number, 'file': file, 'B': B, 'alpha': alpha, 'max_N': max_N}\n",
    "help_dictionary"
   ]
  },
  {
   "cell_type": "code",
   "execution_count": 3,
   "metadata": {},
   "outputs": [
    {
     "data": {
      "text/plain": [
       "\"data_number = max_N * bins_number\\ndata = np.zeros([data_number, bins_number + 2])\\nframe = pd.DataFrame(data)\\nframe = frame.rename(columns = {17: 'Thresholds', 16: 'N'})\\nfor index in range(data_number):\\n    bins = aux.create_bins_combination(bins_number)\\n    frame.iloc[index, :bins_number] = np.sort(bins)\\n    frame.loc[index, 'N'] = np.random.randint(low = bins_number, high = max_N)\\nframe.head(10)\\nframe.describe()\\n\""
      ]
     },
     "execution_count": 3,
     "metadata": {},
     "output_type": "execute_result"
    }
   ],
   "source": [
    "\n",
    "\"\"\"data_number = max_N * bins_number\n",
    "data = np.zeros([data_number, bins_number + 2])\n",
    "frame = pd.DataFrame(data)\n",
    "frame = frame.rename(columns = {17: 'Thresholds', 16: 'N'})\n",
    "for index in range(data_number):\n",
    "    bins = aux.create_bins_combination(bins_number)\n",
    "    frame.iloc[index, :bins_number] = np.sort(bins)\n",
    "    frame.loc[index, 'N'] = np.random.randint(low = bins_number, high = max_N)\n",
    "frame.head(10)\n",
    "frame.describe()\n",
    "\"\"\""
   ]
  },
  {
   "cell_type": "code",
   "execution_count": 4,
   "metadata": {},
   "outputs": [
    {
     "data": {
      "text/plain": [
       "\"for index in range(3, 100):\\n    tree = qt.QuantTree(frame.iloc[index, :16])\\n    tree.ndata = int(frame.loc[index, 'N'])\\n    tree.ndata\\n    frame.loc[index, 'Thresholds'] = qt.ChangeDetectionTest(tree, nu, statistic).estimate_quanttree_threshold(alpha, B)\\n    current_value = index\\nframe.head()\\n\""
      ]
     },
     "execution_count": 4,
     "metadata": {},
     "output_type": "execute_result"
    }
   ],
   "source": [
    "\"\"\"for index in range(3, 100):\n",
    "    tree = qt.QuantTree(frame.iloc[index, :16])\n",
    "    tree.ndata = int(frame.loc[index, 'N'])\n",
    "    tree.ndata\n",
    "    frame.loc[index, 'Thresholds'] = qt.ChangeDetectionTest(tree, nu, statistic).estimate_quanttree_threshold(alpha, B)\n",
    "    current_value = index\n",
    "frame.head()\n",
    "\"\"\"\n"
   ]
  },
  {
   "cell_type": "code",
   "execution_count": 5,
   "metadata": {},
   "outputs": [],
   "source": [
    "#frame.to_csv(file)"
   ]
  },
  {
   "cell_type": "code",
   "execution_count": 3,
   "metadata": {},
   "outputs": [
    {
     "data": {
      "text/plain": [
       "'Thresholds_TV_1.csv'"
      ]
     },
     "execution_count": 3,
     "metadata": {},
     "output_type": "execute_result"
    }
   ],
   "source": [
    "file"
   ]
  },
  {
   "cell_type": "code",
   "execution_count": 7,
   "metadata": {},
   "outputs": [],
   "source": [
    "#frame2 = pd.DataFrame(help_dictionary)\n",
    "#frame2.to_csv('Legend_Dataset')"
   ]
  },
  {
   "cell_type": "code",
   "execution_count": 8,
   "metadata": {},
   "outputs": [],
   "source": [
    "#frame2.to_csv('Legend_Dataset')"
   ]
  },
  {
   "cell_type": "code",
   "execution_count": 4,
   "metadata": {},
   "outputs": [
    {
     "data": {
      "text/plain": [
       "WindowsPath('C:/Users/dalun/PycharmProjects/Thesiss')"
      ]
     },
     "execution_count": 4,
     "metadata": {},
     "output_type": "execute_result"
    }
   ],
   "source": [
    "pathlib.Path().cwd()"
   ]
  },
  {
   "cell_type": "markdown",
   "metadata": {},
   "source": [
    "<p><strong>File stored with the first 100 values. Next time retrieve dataset, add data (and study meanwhile) <p>\n",
    "    "
   ]
  },
  {
   "cell_type": "code",
   "execution_count": 6,
   "metadata": {},
   "outputs": [],
   "source": [
    "#Retrieve dats\n",
    "frame = pd.read_csv('Thresholds_TV_1.csv')\n",
    "frame.drop(frame.columns[0], axis = 1, inplace = True)\n",
    "for index in range(2000, 2400):\n",
    "    tree = qt.QuantTree(frame.iloc[index, :16])\n",
    "    tree.ndata = int(frame.loc[index, 'N'])\n",
    "    tree.ndata\n",
    "    frame.loc[index, 'Thresholds'] = qt.ChangeDetectionTest(tree, nu, statistic).estimate_quanttree_threshold(alpha, B)\n",
    "    current_value = index\n",
    "\n",
    "frame.to_csv(file)"
   ]
  },
  {
   "cell_type": "code",
   "execution_count": null,
   "metadata": {},
   "outputs": [],
   "source": [
    "#Thresholds as function of numbers\n",
    "\n",
    "numbers_thresholds = data.iloc[:, -2:]\n",
    "numbers_thresholds = numbers_thresholds.sort_values('N')\n",
    "numbers_thresholds\n",
    "\n",
    "plt.plot(numbers_thresholds.iloc[10:,0], numbers_thresholds.iloc[10:,1])"
   ]
  },
  {
   "cell_type": "code",
   "execution_count": null,
   "metadata": {},
   "outputs": [],
   "source": [
    "#Thresholds as function of mins\n",
    "\n",
    "mins_thresholds = data.iloc[:, [0, -1]]\n",
    "mins_thresholds.head()\n",
    "\n",
    "mins_thresholds = mins_thresholds.sort_values('0')\n",
    "mins_thresholds\n",
    "\n",
    "plt.plot(mins_thresholds.iloc[10:,0], mins_thresholds.iloc[10:,1])\n"
   ]
  },
  {
   "cell_type": "code",
   "execution_count": null,
   "metadata": {},
   "outputs": [],
   "source": []
  }
 ],
 "metadata": {
  "kernelspec": {
   "display_name": "Python 3",
   "language": "python",
   "name": "python3"
  },
  "language_info": {
   "codemirror_mode": {
    "name": "ipython",
    "version": 3
   },
   "file_extension": ".py",
   "mimetype": "text/x-python",
   "name": "python",
   "nbconvert_exporter": "python",
   "pygments_lexer": "ipython3",
   "version": "3.7.6"
  }
 },
 "nbformat": 4,
 "nbformat_minor": 4
}
