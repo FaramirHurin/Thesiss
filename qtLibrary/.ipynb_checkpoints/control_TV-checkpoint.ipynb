{
 "cells": [
  {
   "cell_type": "code",
   "execution_count": 10,
   "metadata": {},
   "outputs": [],
   "source": [
    "import libquanttree as qt\n",
    "import numpy as np\n",
    "import matplotlib.pyplot as plt\n",
    "import pandas as pd"
   ]
  },
  {
   "cell_type": "code",
   "execution_count": 11,
   "metadata": {},
   "outputs": [],
   "source": [
    "def run_randomly(bins):\n",
    "    pi_values = np.random.randint(low = 1, high = 10, size = bins)\n",
    "    #pi_values = np.ones(32)\n",
    "    pi_values = pi_values/np.sum(pi_values)\n",
    "    pi_values = list(pi_values)\n",
    "    #pi_values\n",
    "\n",
    "    tree = qt.QuantTree(pi_values)\n",
    "    tree.ndata = 3000\n",
    "\n",
    "    test = qt.ChangeDetectionTest(tree, 16, qt.tv_statistic)\n",
    "    threshold = test.estimate_quanttree_threshold([0.5], 3000)\n",
    "    return threshold"
   ]
  },
  {
   "cell_type": "code",
   "execution_count": 12,
   "metadata": {},
   "outputs": [],
   "source": [
    "def run_standardly(bins):\n",
    "    #pi_values = np.random.randint(low = 1, high = 10, size = 8)\n",
    "    pi_values = np.ones(bins)\n",
    "    pi_values = pi_values/np.sum(pi_values)\n",
    "    pi_values = list(pi_values)\n",
    "    #pi_values\n",
    "\n",
    "    tree = qt.QuantTree(pi_values)\n",
    "    tree.ndata = 3000\n",
    "\n",
    "    test = qt.ChangeDetectionTest(tree, 16, qt.tv_statistic)\n",
    "    threshold = test.estimate_quanttree_threshold([0.5], 3000)\n",
    "    return threshold"
   ]
  },
  {
   "cell_type": "code",
   "execution_count": 13,
   "metadata": {},
   "outputs": [
    {
     "name": "stdout",
     "output_type": "stream",
     "text": [
      "4.0 4.076923076923077\n",
      "4.0 4.052631578947369\n",
      "4.0 4.0\n",
      "6.0 6.0\n",
      "6.0 5.8441558441558445\n",
      "6.0 6.081081081081081\n",
      "9.5 8.718562874251496\n",
      "9.5 9.050505050505052\n",
      "9.5 8.868571428571428\n",
      "12.5 11.746835443037973\n",
      "12.5 11.561290322580646\n",
      "12.5 11.537414965986393\n"
     ]
    }
   ],
   "source": [
    "for index in [8, 8, 8, 16, 16, 16, 32, 32, 32, 64, 64, 64]:\n",
    "    print(run_standardly(index), run_randomly(index))"
   ]
  },
  {
   "cell_type": "markdown",
   "metadata": {},
   "source": [
    "Both Pearson and TV bring to integer values for the thresholds.\n",
    "The question is: does a single run bring to integer values for both statistics? If so:may it be a problem of =>?\n",
    "TV: YES, always\n",
    "Pearson: sometimes (but high variance apparently)"
   ]
  },
  {
   "cell_type": "code",
   "execution_count": null,
   "metadata": {},
   "outputs": [],
   "source": []
  }
 ],
 "metadata": {
  "kernelspec": {
   "display_name": "Python 3",
   "language": "python",
   "name": "python3"
  },
  "language_info": {
   "codemirror_mode": {
    "name": "ipython",
    "version": 3
   },
   "file_extension": ".py",
   "mimetype": "text/x-python",
   "name": "python",
   "nbconvert_exporter": "python",
   "pygments_lexer": "ipython3",
   "version": "3.7.6"
  }
 },
 "nbformat": 4,
 "nbformat_minor": 4
}
