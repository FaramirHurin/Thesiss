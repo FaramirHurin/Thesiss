{
 "cells": [
  {
   "cell_type": "markdown",
   "metadata": {},
   "source": [
    "## Step da seguire\n",
    "<p> 1) Salvare una combinazione di trhesholds PI </p>\n",
    "<p> 2) Salvare i thresholds dell'EWMA-tree. Per comodità i thresholds dipendono dai pi-values, da N (number of data) e da desired alpha </p>\n"
   ]
  },
  {
   "cell_type": "code",
   "execution_count": 3,
   "metadata": {},
   "outputs": [
    {
     "ename": "AttributeError",
     "evalue": "module 'pandas' has no attribute 'compat'",
     "output_type": "error",
     "traceback": [
      "\u001b[1;31m---------------------------------------------------------------------------\u001b[0m",
      "\u001b[1;31mAttributeError\u001b[0m                            Traceback (most recent call last)",
      "\u001b[1;32m<ipython-input-3-81012179abb0>\u001b[0m in \u001b[0;36m<module>\u001b[1;34m\u001b[0m\n\u001b[0;32m      2\u001b[0m \u001b[1;33m\u001b[0m\u001b[0m\n\u001b[0;32m      3\u001b[0m \u001b[1;31m# My code\u001b[0m\u001b[1;33m\u001b[0m\u001b[1;33m\u001b[0m\u001b[1;33m\u001b[0m\u001b[0m\n\u001b[1;32m----> 4\u001b[1;33m \u001b[1;32mfrom\u001b[0m \u001b[0mmain_code\u001b[0m\u001b[1;33m.\u001b[0m\u001b[0mEWMA_QuantTree\u001b[0m \u001b[1;32mimport\u001b[0m \u001b[0mOffline_EWMA_QuantTree\u001b[0m\u001b[1;33m\u001b[0m\u001b[1;33m\u001b[0m\u001b[0m\n\u001b[0m\u001b[0;32m      5\u001b[0m \u001b[1;32mfrom\u001b[0m \u001b[0mmain_code\u001b[0m\u001b[1;33m.\u001b[0m\u001b[0mauxiliary_project_functions\u001b[0m \u001b[1;32mimport\u001b[0m \u001b[0mcreate_bins_combination\u001b[0m\u001b[1;33m,\u001b[0m \u001b[0mData_set_Handler\u001b[0m\u001b[1;33m\u001b[0m\u001b[1;33m\u001b[0m\u001b[0m\n\u001b[0;32m      6\u001b[0m \u001b[1;33m\u001b[0m\u001b[0m\n",
      "\u001b[1;32m~\\PycharmProjects\\Thesiss\\main_code\\EWMA_QuantTree.py\u001b[0m in \u001b[0;36m<module>\u001b[1;34m\u001b[0m\n\u001b[1;32m----> 1\u001b[1;33m \u001b[1;32mfrom\u001b[0m \u001b[0mmain_code\u001b[0m\u001b[1;33m.\u001b[0m\u001b[0mincremental_QuantTree\u001b[0m \u001b[1;32mimport\u001b[0m \u001b[0mIncremental_Quant_Tree\u001b[0m\u001b[1;33m\u001b[0m\u001b[1;33m\u001b[0m\u001b[0m\n\u001b[0m\u001b[0;32m      2\u001b[0m \u001b[1;32mimport\u001b[0m \u001b[0mnumpy\u001b[0m \u001b[1;32mas\u001b[0m \u001b[0mnp\u001b[0m\u001b[1;33m\u001b[0m\u001b[1;33m\u001b[0m\u001b[0m\n\u001b[0;32m      3\u001b[0m \u001b[1;32mimport\u001b[0m \u001b[0mqtLibrary\u001b[0m\u001b[1;33m.\u001b[0m\u001b[0mlibquanttree\u001b[0m \u001b[1;32mas\u001b[0m \u001b[0mqt\u001b[0m\u001b[1;33m\u001b[0m\u001b[1;33m\u001b[0m\u001b[0m\n\u001b[0;32m      4\u001b[0m \u001b[1;32mfrom\u001b[0m \u001b[0mmain_code\u001b[0m \u001b[1;32mimport\u001b[0m \u001b[0mneuralNetworks\u001b[0m \u001b[1;32mas\u001b[0m \u001b[0mNN\u001b[0m\u001b[1;33m\u001b[0m\u001b[1;33m\u001b[0m\u001b[0m\n\u001b[0;32m      5\u001b[0m \u001b[1;33m\u001b[0m\u001b[0m\n",
      "\u001b[1;32m~\\PycharmProjects\\Thesiss\\main_code\\incremental_QuantTree.py\u001b[0m in \u001b[0;36m<module>\u001b[1;34m\u001b[0m\n\u001b[0;32m      1\u001b[0m \u001b[1;32mimport\u001b[0m \u001b[0mnumpy\u001b[0m \u001b[1;32mas\u001b[0m \u001b[0mnp\u001b[0m\u001b[1;33m\u001b[0m\u001b[1;33m\u001b[0m\u001b[0m\n\u001b[0;32m      2\u001b[0m \u001b[1;32mimport\u001b[0m \u001b[0mqtLibrary\u001b[0m\u001b[1;33m.\u001b[0m\u001b[0mlibquanttree\u001b[0m \u001b[1;32mas\u001b[0m \u001b[0mqt\u001b[0m\u001b[1;33m\u001b[0m\u001b[1;33m\u001b[0m\u001b[0m\n\u001b[1;32m----> 3\u001b[1;33m \u001b[1;32mfrom\u001b[0m \u001b[0mmain_code\u001b[0m \u001b[1;32mimport\u001b[0m \u001b[0mneuralNetworks\u001b[0m \u001b[1;32mas\u001b[0m \u001b[0mnn\u001b[0m\u001b[1;33m\u001b[0m\u001b[1;33m\u001b[0m\u001b[0m\n\u001b[0m\u001b[0;32m      4\u001b[0m \u001b[1;33m\u001b[0m\u001b[0m\n\u001b[0;32m      5\u001b[0m \u001b[1;33m\u001b[0m\u001b[0m\n",
      "\u001b[1;32m~\\PycharmProjects\\Thesiss\\main_code\\neuralNetworks.py\u001b[0m in \u001b[0;36m<module>\u001b[1;34m\u001b[0m\n\u001b[0;32m      1\u001b[0m \u001b[1;32mimport\u001b[0m \u001b[0mnumpy\u001b[0m \u001b[1;32mas\u001b[0m \u001b[0mnp\u001b[0m\u001b[1;33m\u001b[0m\u001b[1;33m\u001b[0m\u001b[0m\n\u001b[1;32m----> 2\u001b[1;33m \u001b[1;32mimport\u001b[0m \u001b[0mpandas\u001b[0m \u001b[1;32mas\u001b[0m \u001b[0mpd\u001b[0m\u001b[1;33m\u001b[0m\u001b[1;33m\u001b[0m\u001b[0m\n\u001b[0m\u001b[0;32m      3\u001b[0m \u001b[1;32mfrom\u001b[0m \u001b[0msklearn\u001b[0m \u001b[1;32mimport\u001b[0m \u001b[0mneural_network\u001b[0m \u001b[1;32mas\u001b[0m \u001b[0mnn\u001b[0m\u001b[1;33m\u001b[0m\u001b[1;33m\u001b[0m\u001b[0m\n\u001b[0;32m      4\u001b[0m \u001b[1;32mimport\u001b[0m \u001b[0mqtLibrary\u001b[0m\u001b[1;33m.\u001b[0m\u001b[0mlibquanttree\u001b[0m \u001b[1;32mas\u001b[0m \u001b[0mqt\u001b[0m\u001b[1;33m\u001b[0m\u001b[1;33m\u001b[0m\u001b[0m\n\u001b[0;32m      5\u001b[0m \u001b[1;32mfrom\u001b[0m \u001b[0mmain_code\u001b[0m\u001b[1;33m.\u001b[0m\u001b[0mauxiliary_project_functions\u001b[0m \u001b[1;32mimport\u001b[0m \u001b[0mcreate_bins_combination\u001b[0m\u001b[1;33m,\u001b[0m \u001b[0mAlternative_threshold_computation\u001b[0m\u001b[1;33m\u001b[0m\u001b[1;33m\u001b[0m\u001b[0m\n",
      "\u001b[1;32m~\\anaconda3\\lib\\site-packages\\pandas\\__init__.py\u001b[0m in \u001b[0;36m<module>\u001b[1;34m\u001b[0m\n\u001b[0;32m    190\u001b[0m \u001b[1;31m# GH 27101\u001b[0m\u001b[1;33m\u001b[0m\u001b[1;33m\u001b[0m\u001b[1;33m\u001b[0m\u001b[0m\n\u001b[0;32m    191\u001b[0m \u001b[1;31m# TODO: remove Panel compat in 1.0\u001b[0m\u001b[1;33m\u001b[0m\u001b[1;33m\u001b[0m\u001b[1;33m\u001b[0m\u001b[0m\n\u001b[1;32m--> 192\u001b[1;33m \u001b[1;32mif\u001b[0m \u001b[0mpandas\u001b[0m\u001b[1;33m.\u001b[0m\u001b[0mcompat\u001b[0m\u001b[1;33m.\u001b[0m\u001b[0mPY37\u001b[0m\u001b[1;33m:\u001b[0m\u001b[1;33m\u001b[0m\u001b[1;33m\u001b[0m\u001b[0m\n\u001b[0m\u001b[0;32m    193\u001b[0m \u001b[1;33m\u001b[0m\u001b[0m\n\u001b[0;32m    194\u001b[0m     \u001b[1;32mdef\u001b[0m \u001b[0m__getattr__\u001b[0m\u001b[1;33m(\u001b[0m\u001b[0mname\u001b[0m\u001b[1;33m)\u001b[0m\u001b[1;33m:\u001b[0m\u001b[1;33m\u001b[0m\u001b[1;33m\u001b[0m\u001b[0m\n",
      "\u001b[1;31mAttributeError\u001b[0m: module 'pandas' has no attribute 'compat'"
     ]
    }
   ],
   "source": [
    "#Imports\n",
    "\n",
    "# My code\n",
    "from main_code.EWMA_QuantTree import Offline_EWMA_QuantTree\n",
    "from main_code.auxiliary_project_functions import create_bins_combination, Data_set_Handler\n",
    "\n",
    "# Standard QT code\n",
    "from qtLibrary.qt_EWMA_Luca import H_CPM\n",
    "import qtLibrary.libquanttree as qt\n",
    "\n",
    "#Standard libraries\n",
    "import numpy as np\n",
    "import pandas as pd\n",
    "from collections import Counter\n",
    "import matplotlib.pyplot as plt\n"
   ]
  },
  {
   "cell_type": "code",
   "execution_count": null,
   "metadata": {},
   "outputs": [],
   "source": [
    "#Initialization\n",
    "\n",
    "#Standard dimensions\n",
    "dimensions_number = 3\n",
    "bins_number = 8\n",
    "nu = 32\n",
    "\n",
    "#Trees parameters\n",
    "training_N = 5 * bins_number\n",
    "lamb = 0.05\n",
    "alpha_EWMA = [0.5]\n",
    "alpha_QT = [0.01]\n",
    "desired_ARL0 = int(1/alpha_QT[0])\n",
    "statistic = qt.tv_statistic\n"
   ]
  },
  {
   "cell_type": "code",
   "execution_count": null,
   "metadata": {},
   "outputs": [],
   "source": [
    "# pi_values\n",
    "pi_values = create_bins_combination(bins_number)\n",
    "\n",
    "#Dataset\n",
    "handler = Data_set_Handler(dimensions_number)\n",
    "training_set = handler.return_equal_batch(training_N)\n",
    "\n",
    "#Offline Tree creation\n",
    "offline_tree = Offline_EWMA_QuantTree( pi_values, lamb, statistic, alpha_EWMA, nu, desired_ARL0)\n",
    "\n",
    "#Histograms building, EWMA thresholds computation and assignation\n",
    "offline_tree.build_histogram(training_set)\n",
    "offline_EWMA_thresholds = offline_tree.EWMA_thresholds\n",
    "\n",
    "\n",
    "plt.plot(offline_EWMA_thresholds)\n"
   ]
  },
  {
   "cell_type": "markdown",
   "metadata": {},
   "source": [
    "### What to store\n",
    "<p> Alpha EWMA, Desired ARL0, Pi_Values, Thresholds </p>\n",
    "<p> Stored as a dictionary  </p>\n",
    "<strong> How to store: Pickle file </strong>\n",
    "\n"
   ]
  },
  {
   "cell_type": "code",
   "execution_count": null,
   "metadata": {},
   "outputs": [],
   "source": [
    "#Creation data structure\n",
    "dict = {'Alpha': alpha_EWMA, 'desired_ARL0': desired_ARL0, 'pi_values': pi_values, 'Thresholds': offline_EWMA_thresholds}\n",
    "\n",
    "#Storage\n",
    "import pickle\n",
    "with open('dict.pickle', 'wb') as handle:\n",
    "    pickle.dump(dict, handle, protocol=pickle.HIGHEST_PROTOCOL)\n",
    "\n"
   ]
  },
  {
   "cell_type": "code",
   "execution_count": null,
   "metadata": {},
   "outputs": [],
   "source": [
    "#Retrieve file\n",
    "file2 = open('dict.pickle', 'rb')\n",
    "new_d = pickle.load(file2)\n",
    "file2.close()\n"
   ]
  },
  {
   "cell_type": "markdown",
   "metadata": {},
   "source": [
    "## Run di ARL\n",
    "<p> Average run lenghts salvate come frame creato sulla base di un dizionario di vettori (Ogni run aggiunge un elemento ai vettori del dizionario) </p>\n",
    "\n"
   ]
  },
  {
   "cell_type": "code",
   "execution_count": null,
   "metadata": {},
   "outputs": [],
   "source": []
  },
  {
   "cell_type": "code",
   "execution_count": null,
   "metadata": {},
   "outputs": [],
   "source": [
    "\n"
   ]
  },
  {
   "cell_type": "code",
   "execution_count": null,
   "metadata": {},
   "outputs": [],
   "source": [
    "offline_EWMA = Offline_EWMA_QuantTree(create_bins_combination(bins_number), lamb, statistic, alpha_EWMA, nu, \n",
    "                                      ewma_desired_ARL0)\n",
    "handler = Data_set_Handler(dimensions_number)\n",
    "training_set = handler.return_equal_batch(training_N)\n",
    "offline_EWMA.build_histogram(training_set)\n",
    "for round in range(1000):\n",
    "    batch = handler.return_equal_batch(nu)\n",
    "    offline_EWMA.play_round(batch)\n",
    "for round in range(1000):\n",
    "    batch = handler.generate_similar_batch(nu, 1)\n",
    "    offline_EWMA.play_round(batch)\n",
    "plt.plot(offline_EWMA.values)\n",
    "plt.xlabel('Time')\n",
    "plt.ylabel('EWMA value')\n",
    "plt.axvline(1000)\n",
    "plt.title('EWMA. From 1000 data come from phi 1: skl = 1')\n",
    "plt.show()"
   ]
  },
  {
   "cell_type": "code",
   "execution_count": null,
   "metadata": {},
   "outputs": [],
   "source": []
  }
 ],
 "metadata": {
  "kernelspec": {
   "display_name": "Python 3",
   "language": "python",
   "name": "python3"
  },
  "language_info": {
   "codemirror_mode": {
    "name": "ipython",
    "version": 3
   },
   "file_extension": ".py",
   "mimetype": "text/x-python",
   "name": "python",
   "nbconvert_exporter": "python",
   "pygments_lexer": "ipython3",
   "version": "3.7.6"
  }
 },
 "nbformat": 4,
 "nbformat_minor": 4
}
