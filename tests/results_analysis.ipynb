{
 "cells": [
  {
   "cell_type": "code",
   "execution_count": 2,
   "metadata": {},
   "outputs": [],
   "source": [
    "import pandas as pd\n",
    "import numpy as np\n",
    "import matplotlib.pyplot as plt\n",
    "import re"
   ]
  },
  {
   "cell_type": "code",
   "execution_count": 3,
   "metadata": {},
   "outputs": [
    {
     "ename": "SyntaxError",
     "evalue": "invalid syntax (<ipython-input-3-3829570cc3b4>, line 3)",
     "output_type": "error",
     "traceback": [
      "\u001b[1;36m  File \u001b[1;32m\"<ipython-input-3-3829570cc3b4>\"\u001b[1;36m, line \u001b[1;32m3\u001b[0m\n\u001b[1;33m    string_10 =\u001b[0m\n\u001b[1;37m                ^\u001b[0m\n\u001b[1;31mSyntaxError\u001b[0m\u001b[1;31m:\u001b[0m invalid syntax\n"
     ]
    }
   ],
   "source": [
    "\n",
    "Change_point = 30\n",
    "\n",
    "string_10 = \n",
    "{<class 'main_code.incremental_QuantTree.Online_Incremental_QuantTree'>: 30, <class 'main_code.EWMA_QuantTree.Online_EWMA_QUantTree'>: 53, <class 'main_code.EWMA_QuantTree.Offline_EWMA_QuantTree'>: 53},\n",
    "{<class 'main_code.incremental_QuantTree.Online_Incremental_QuantTree'>: 30, <class 'main_code.EWMA_QuantTree.Online_EWMA_QUantTree'>: 53, <class 'main_code.EWMA_QuantTree.Offline_EWMA_QuantTree'>: 53},\n",
    "{<class 'main_code.incremental_QuantTree.Online_Incremental_QuantTree'>: 30, <class 'main_code.EWMA_QuantTree.Online_EWMA_QUantTree'>: 53, <class 'main_code.EWMA_QuantTree.Offline_EWMA_QuantTree'>: 53},\n",
    "{<class 'main_code.incremental_QuantTree.Online_Incremental_QuantTree'>: 30, <class 'main_code.EWMA_QuantTree.Online_EWMA_QUantTree'>: 53, <class 'main_code.EWMA_QuantTree.Offline_EWMA_QuantTree'>: 53},\n",
    "{<class 'main_code.incremental_QuantTree.Online_Incremental_QuantTree'>: 30, <class 'main_code.EWMA_QuantTree.Online_EWMA_QUantTree'>: 53, <class 'main_code.EWMA_QuantTree.Offline_EWMA_QuantTree'>: 53},\n",
    "{<class 'main_code.incremental_QuantTree.Online_Incremental_QuantTree'>: 30, <class 'main_code.EWMA_QuantTree.Online_EWMA_QUantTree'>: 53, <class 'main_code.EWMA_QuantTree.Offline_EWMA_QuantTree'>: 53},\n",
    "{<class 'main_code.incremental_QuantTree.Online_Incremental_QuantTree'>: 30, <class 'main_code.EWMA_QuantTree.Online_EWMA_QUantTree'>: 55, <class 'main_code.EWMA_QuantTree.Offline_EWMA_QuantTree'>: 53},\n",
    "{<class 'main_code.incremental_QuantTree.Online_Incremental_QuantTree'>: 30, <class 'main_code.EWMA_QuantTree.Online_EWMA_QUantTree'>: 53, <class 'main_code.EWMA_QuantTree.Offline_EWMA_QuantTree'>: 54},\n",
    "{<class 'main_code.incremental_QuantTree.Online_Incremental_QuantTree'>: 30, <class 'main_code.EWMA_QuantTree.Online_EWMA_QUantTree'>: 53, <class 'main_code.EWMA_QuantTree.Offline_EWMA_QuantTree'>: 53},\n",
    "{<class 'main_code.incremental_QuantTree.Online_Incremental_QuantTree'>: 30, <class 'main_code.EWMA_QuantTree.Online_EWMA_QUantTree'>: 54, <class 'main_code.EWMA_QuantTree.Offline_EWMA_QuantTree'>: 53},\n",
    "{<class 'main_code.incremental_QuantTree.Online_Incremental_QuantTree'>: 30, <class 'main_code.EWMA_QuantTree.Online_EWMA_QUantTree'>: 53, <class 'main_code.EWMA_QuantTree.Offline_EWMA_QuantTree'>: 53},\n",
    "{<class 'main_code.incremental_QuantTree.Online_Incremental_QuantTree'>: 30, <class 'main_code.EWMA_QuantTree.Online_EWMA_QUantTree'>: 53, <class 'main_code.EWMA_QuantTree.Offline_EWMA_QuantTree'>: 53},\n",
    "{<class 'main_code.incremental_QuantTree.Online_Incremental_QuantTree'>: 30, <class 'main_code.EWMA_QuantTree.Online_EWMA_QUantTree'>: 53, <class 'main_code.EWMA_QuantTree.Offline_EWMA_QuantTree'>: 60},\n",
    "{<class 'main_code.incremental_QuantTree.Online_Incremental_QuantTree'>: 30, <class 'main_code.EWMA_QuantTree.Online_EWMA_QUantTree'>: 53, <class 'main_code.EWMA_QuantTree.Offline_EWMA_QuantTree'>: 53},\n",
    "{<class 'main_code.incremental_QuantTree.Online_Incremental_QuantTree'>: 30, <class 'main_code.EWMA_QuantTree.Online_EWMA_QUantTree'>: 53, <class 'main_code.EWMA_QuantTree.Offline_EWMA_QuantTree'>: 54},\n",
    "{<class 'main_code.incremental_QuantTree.Online_Incremental_QuantTree'>: 31, <class 'main_code.EWMA_QuantTree.Online_EWMA_QUantTree'>: 53, <class 'main_code.EWMA_QuantTree.Offline_EWMA_QuantTree'>: 55},\n",
    "{<class 'main_code.incremental_QuantTree.Online_Incremental_QuantTree'>: 30, <class 'main_code.EWMA_QuantTree.Online_EWMA_QUantTree'>: 54, <class 'main_code.EWMA_QuantTree.Offline_EWMA_QuantTree'>: 56},\n",
    "{<class 'main_code.incremental_QuantTree.Online_Incremental_QuantTree'>: 30, <class 'main_code.EWMA_QuantTree.Online_EWMA_QUantTree'>: 53, <class 'main_code.EWMA_QuantTree.Offline_EWMA_QuantTree'>: 56},\n",
    "{<class 'main_code.incremental_QuantTree.Online_Incremental_QuantTree'>: 30, <class 'main_code.EWMA_QuantTree.Online_EWMA_QUantTree'>: 53, <class 'main_code.EWMA_QuantTree.Offline_EWMA_QuantTree'>: 53},\n",
    "{<class 'main_code.incremental_QuantTree.Online_Incremental_QuantTree'>: 30, <class 'main_code.EWMA_QuantTree.Online_EWMA_QUantTree'>: 53, <class 'main_code.EWMA_QuantTree.Offline_EWMA_QuantTree'>: 53},\n",
    "{<class 'main_code.incremental_QuantTree.Online_Incremental_QuantTree'>: 30, <class 'main_code.EWMA_QuantTree.Online_EWMA_QUantTree'>: 53, <class 'main_code.EWMA_QuantTree.Offline_EWMA_QuantTree'>: 53},\n",
    "{<class 'main_code.incremental_QuantTree.Online_Incremental_QuantTree'>: 30, <class 'main_code.EWMA_QuantTree.Online_EWMA_QUantTree'>: 53, <class 'main_code.EWMA_QuantTree.Offline_EWMA_QuantTree'>: 53},\n",
    "{<class 'main_code.incremental_QuantTree.Online_Incremental_QuantTree'>: 30, <class 'main_code.EWMA_QuantTree.Online_EWMA_QUantTree'>: 53, <class 'main_code.EWMA_QuantTree.Offline_EWMA_QuantTree'>: 53},\n",
    "{<class 'main_code.incremental_QuantTree.Online_Incremental_QuantTree'>: 30, <class 'main_code.EWMA_QuantTree.Online_EWMA_QUantTree'>: 53, <class 'main_code.EWMA_QuantTree.Offline_EWMA_QuantTree'>: 53},\n",
    "{<class 'main_code.incremental_QuantTree.Online_Incremental_QuantTree'>: 30, <class 'main_code.EWMA_QuantTree.Online_EWMA_QUantTree'>: 61, <class 'main_code.EWMA_QuantTree.Offline_EWMA_QuantTree'>: 56},\n",
    "{<class 'main_code.incremental_QuantTree.Online_Incremental_QuantTree'>: 30, <class 'main_code.EWMA_QuantTree.Online_EWMA_QUantTree'>: 57, <class 'main_code.EWMA_QuantTree.Offline_EWMA_QuantTree'>: 58},\n",
    "{<class 'main_code.incremental_QuantTree.Online_Incremental_QuantTree'>: 31, <class 'main_code.EWMA_QuantTree.Online_EWMA_QUantTree'>: 60, <class 'main_code.EWMA_QuantTree.Offline_EWMA_QuantTree'>: 53},\n",
    "{<class 'main_code.incremental_QuantTree.Online_Incremental_QuantTree'>: 31, <class 'main_code.EWMA_QuantTree.Online_EWMA_QUantTree'>: 53, <class 'main_code.EWMA_QuantTree.Offline_EWMA_QuantTree'>: 54},\n",
    "{<class 'main_code.incremental_QuantTree.Online_Incremental_QuantTree'>: 30, <class 'main_code.EWMA_QuantTree.Online_EWMA_QUantTree'>: 53, <class 'main_code.EWMA_QuantTree.Offline_EWMA_QuantTree'>: 53},\n",
    "{<class 'main_code.incremental_QuantTree.Online_Incremental_QuantTree'>: 31, <class 'main_code.EWMA_QuantTree.Online_EWMA_QUantTree'>: 53, <class 'main_code.EWMA_QuantTree.Offline_EWMA_QuantTree'>: 53}\n",
    "\n",
    "string_1 = \n",
    "{<class 'main_code.incremental_QuantTree.Online_Incremental_QuantTree'>: 30, <class 'main_code.EWMA_QuantTree.Online_EWMA_QUantTree'>: 55, <class 'main_code.EWMA_QuantTree.Offline_EWMA_QuantTree'>: 53},\n",
    "{<class 'main_code.incremental_QuantTree.Online_Incremental_QuantTree'>: 30, <class 'main_code.EWMA_QuantTree.Online_EWMA_QUantTree'>: 53, <class 'main_code.EWMA_QuantTree.Offline_EWMA_QuantTree'>: 67},\n",
    "{<class 'main_code.incremental_QuantTree.Online_Incremental_QuantTree'>: 33, <class 'main_code.EWMA_QuantTree.Online_EWMA_QUantTree'>: 55, <class 'main_code.EWMA_QuantTree.Offline_EWMA_QuantTree'>: 56},\n",
    "{<class 'main_code.incremental_QuantTree.Online_Incremental_QuantTree'>: 33, <class 'main_code.EWMA_QuantTree.Online_EWMA_QUantTree'>: 57, <class 'main_code.EWMA_QuantTree.Offline_EWMA_QuantTree'>: 62},\n",
    "{<class 'main_code.incremental_QuantTree.Online_Incremental_QuantTree'>: 31, <class 'main_code.EWMA_QuantTree.Online_EWMA_QUantTree'>: 58, <class 'main_code.EWMA_QuantTree.Offline_EWMA_QuantTree'>: 61},\n",
    "{<class 'main_code.incremental_QuantTree.Online_Incremental_QuantTree'>: 31, <class 'main_code.EWMA_QuantTree.Online_EWMA_QUantTree'>: 57, <class 'main_code.EWMA_QuantTree.Offline_EWMA_QuantTree'>: 70},\n",
    "{<class 'main_code.incremental_QuantTree.Online_Incremental_QuantTree'>: 35, <class 'main_code.EWMA_QuantTree.Online_EWMA_QUantTree'>: 67, <class 'main_code.EWMA_QuantTree.Offline_EWMA_QuantTree'>: 141},\n",
    "{<class 'main_code.incremental_QuantTree.Online_Incremental_QuantTree'>: 31, <class 'main_code.EWMA_QuantTree.Online_EWMA_QUantTree'>: 56, <class 'main_code.EWMA_QuantTree.Offline_EWMA_QuantTree'>: 101},\n",
    "{<class 'main_code.incremental_QuantTree.Online_Incremental_QuantTree'>: 34, <class 'main_code.EWMA_QuantTree.Online_EWMA_QUantTree'>: 54, <class 'main_code.EWMA_QuantTree.Offline_EWMA_QuantTree'>: 130},\n",
    "{<class 'main_code.incremental_QuantTree.Online_Incremental_QuantTree'>: 47, <class 'main_code.EWMA_QuantTree.Online_EWMA_QUantTree'>: 67, <class 'main_code.EWMA_QuantTree.Offline_EWMA_QuantTree'>: 89},\n",
    "{<class 'main_code.incremental_QuantTree.Online_Incremental_QuantTree'>: 31, <class 'main_code.EWMA_QuantTree.Online_EWMA_QUantTree'>: 59, <class 'main_code.EWMA_QuantTree.Offline_EWMA_QuantTree'>: 76},\n",
    "{<class 'main_code.incremental_QuantTree.Online_Incremental_QuantTree'>: 32, <class 'main_code.EWMA_QuantTree.Online_EWMA_QUantTree'>: 55, <class 'main_code.EWMA_QuantTree.Offline_EWMA_QuantTree'>: 97},\n",
    "{<class 'main_code.incremental_QuantTree.Online_Incremental_QuantTree'>: 30, <class 'main_code.EWMA_QuantTree.Online_EWMA_QUantTree'>: 56, <class 'main_code.EWMA_QuantTree.Offline_EWMA_QuantTree'>: 56},\n",
    "{<class 'main_code.incremental_QuantTree.Online_Incremental_QuantTree'>: 30, <class 'main_code.EWMA_QuantTree.Online_EWMA_QUantTree'>: 53, <class 'main_code.EWMA_QuantTree.Offline_EWMA_QuantTree'>: 61},\n",
    "{<class 'main_code.incremental_QuantTree.Online_Incremental_QuantTree'>: 32, <class 'main_code.EWMA_QuantTree.Online_EWMA_QUantTree'>: 54, <class 'main_code.EWMA_QuantTree.Offline_EWMA_QuantTree'>: 67},\n",
    "{<class 'main_code.incremental_QuantTree.Online_Incremental_QuantTree'>: 30, <class 'main_code.EWMA_QuantTree.Online_EWMA_QUantTree'>: 53, <class 'main_code.EWMA_QuantTree.Offline_EWMA_QuantTree'>: 59},\n",
    "{<class 'main_code.incremental_QuantTree.Online_Incremental_QuantTree'>: 34, <class 'main_code.EWMA_QuantTree.Online_EWMA_QUantTree'>: 53, <class 'main_code.EWMA_QuantTree.Offline_EWMA_QuantTree'>: 61},\n",
    "{<class 'main_code.incremental_QuantTree.Online_Incremental_QuantTree'>: 30, <class 'main_code.EWMA_QuantTree.Online_EWMA_QUantTree'>: 57, <class 'main_code.EWMA_QuantTree.Offline_EWMA_QuantTree'>: 71},\n",
    "{<class 'main_code.incremental_QuantTree.Online_Incremental_QuantTree'>: 34, <class 'main_code.EWMA_QuantTree.Online_EWMA_QUantTree'>: 66, <class 'main_code.EWMA_QuantTree.Offline_EWMA_QuantTree'>: 220},\n",
    "{<class 'main_code.incremental_QuantTree.Online_Incremental_QuantTree'>: 37, <class 'main_code.EWMA_QuantTree.Online_EWMA_QUantTree'>: 74, <class 'main_code.EWMA_QuantTree.Offline_EWMA_QuantTree'>: 136},\n",
    "{<class 'main_code.incremental_QuantTree.Online_Incremental_QuantTree'>: 33, <class 'main_code.EWMA_QuantTree.Online_EWMA_QUantTree'>: 64, <class 'main_code.EWMA_QuantTree.Offline_EWMA_QuantTree'>: 560},\n",
    "{<class 'main_code.incremental_QuantTree.Online_Incremental_QuantTree'>: 30, <class 'main_code.EWMA_QuantTree.Online_EWMA_QUantTree'>: 63, <class 'main_code.EWMA_QuantTree.Offline_EWMA_QuantTree'>: 103},\n",
    "{<class 'main_code.incremental_QuantTree.Online_Incremental_QuantTree'>: 30, <class 'main_code.EWMA_QuantTree.Online_EWMA_QUantTree'>: 55, <class 'main_code.EWMA_QuantTree.Offline_EWMA_QuantTree'>: 81},\n",
    "{<class 'main_code.incremental_QuantTree.Online_Incremental_QuantTree'>: 31, <class 'main_code.EWMA_QuantTree.Online_EWMA_QUantTree'>: 63, <class 'main_code.EWMA_QuantTree.Offline_EWMA_QuantTree'>: 134},\n",
    "{<class 'main_code.incremental_QuantTree.Online_Incremental_QuantTree'>: 30, <class 'main_code.EWMA_QuantTree.Online_EWMA_QUantTree'>: 64, <class 'main_code.EWMA_QuantTree.Offline_EWMA_QuantTree'>: 166},\n",
    "{<class 'main_code.incremental_QuantTree.Online_Incremental_QuantTree'>: 30, <class 'main_code.EWMA_QuantTree.Online_EWMA_QUantTree'>: 57, <class 'main_code.EWMA_QuantTree.Offline_EWMA_QuantTree'>: 75},\n",
    "{<class 'main_code.incremental_QuantTree.Online_Incremental_QuantTree'>: 36, <class 'main_code.EWMA_QuantTree.Online_EWMA_QUantTree'>: 75, <class 'main_code.EWMA_QuantTree.Offline_EWMA_QuantTree'>: 109},\n",
    "{<class 'main_code.incremental_QuantTree.Online_Incremental_QuantTree'>: 33, <class 'main_code.EWMA_QuantTree.Online_EWMA_QUantTree'>: 67, <class 'main_code.EWMA_QuantTree.Offline_EWMA_QuantTree'>: 196},\n",
    "{<class 'main_code.incremental_QuantTree.Online_Incremental_QuantTree'>: 33, <class 'main_code.EWMA_QuantTree.Online_EWMA_QUantTree'>: 76, <class 'main_code.EWMA_QuantTree.Offline_EWMA_QuantTree'>: 137},\n",
    "{<class 'main_code.incremental_QuantTree.Online_Incremental_QuantTree'>: 37, <class 'main_code.EWMA_QuantTree.Online_EWMA_QUantTree'>: 62, <class 'main_code.EWMA_QuantTree.Offline_EWMA_QuantTree'>: 102}\n",
    "\n",
    "string_0 = \n",
    "{<class 'main_code.incremental_QuantTree.Online_Incremental_QuantTree'>: 68, <class 'main_code.EWMA_QuantTree.Online_EWMA_QUantTree'>: 765, <class 'main_code.EWMA_QuantTree.Offline_EWMA_QuantTree'>: 1000},\n",
    "{<class 'main_code.incremental_QuantTree.Online_Incremental_QuantTree'>: 64, <class 'main_code.EWMA_QuantTree.Online_EWMA_QUantTree'>: 129, <class 'main_code.EWMA_QuantTree.Offline_EWMA_QuantTree'>: 1000},\n",
    "{<class 'main_code.incremental_QuantTree.Online_Incremental_QuantTree'>: 517, <class 'main_code.EWMA_QuantTree.Online_EWMA_QUantTree'>: 152, <class 'main_code.EWMA_QuantTree.Offline_EWMA_QuantTree'>: 1000},\n",
    "{<class 'main_code.incremental_QuantTree.Online_Incremental_QuantTree'>: 97, <class 'main_code.EWMA_QuantTree.Online_EWMA_QUantTree'>: 195, <class 'main_code.EWMA_QuantTree.Offline_EWMA_QuantTree'>: 1000},\n",
    "{<class 'main_code.incremental_QuantTree.Online_Incremental_QuantTree'>: 168, <class 'main_code.EWMA_QuantTree.Online_EWMA_QUantTree'>: 104, <class 'main_code.EWMA_QuantTree.Offline_EWMA_QuantTree'>: 1000},\n",
    "{<class 'main_code.incremental_QuantTree.Online_Incremental_QuantTree'>: 45, <class 'main_code.EWMA_QuantTree.Online_EWMA_QUantTree'>: 405, <class 'main_code.EWMA_QuantTree.Offline_EWMA_QuantTree'>: 1000},\n",
    "{<class 'main_code.incremental_QuantTree.Online_Incremental_QuantTree'>: 349, <class 'main_code.EWMA_QuantTree.Online_EWMA_QUantTree'>: 115, <class 'main_code.EWMA_QuantTree.Offline_EWMA_QuantTree'>: 1000},\n",
    "{<class 'main_code.incremental_QuantTree.Online_Incremental_QuantTree'>: 44, <class 'main_code.EWMA_QuantTree.Online_EWMA_QUantTree'>: 254, <class 'main_code.EWMA_QuantTree.Offline_EWMA_QuantTree'>: 1000},\n",
    "{<class 'main_code.incremental_QuantTree.Online_Incremental_QuantTree'>: 262, <class 'main_code.EWMA_QuantTree.Online_EWMA_QUantTree'>: 307, <class 'main_code.EWMA_QuantTree.Offline_EWMA_QuantTree'>: 1000},\n",
    "{<class 'main_code.incremental_QuantTree.Online_Incremental_QuantTree'>: 69, <class 'main_code.EWMA_QuantTree.Online_EWMA_QUantTree'>: 748, <class 'main_code.EWMA_QuantTree.Offline_EWMA_QuantTree'>: 1000},\n",
    "{<class 'main_code.incremental_QuantTree.Online_Incremental_QuantTree'>: 165, <class 'main_code.EWMA_QuantTree.Online_EWMA_QUantTree'>: 147, <class 'main_code.EWMA_QuantTree.Offline_EWMA_QuantTree'>: 1000},\n",
    "{<class 'main_code.incremental_QuantTree.Online_Incremental_QuantTree'>: 205, <class 'main_code.EWMA_QuantTree.Online_EWMA_QUantTree'>: 378, <class 'main_code.EWMA_QuantTree.Offline_EWMA_QuantTree'>: 1000},\n",
    "{<class 'main_code.incremental_QuantTree.Online_Incremental_QuantTree'>: 451, <class 'main_code.EWMA_QuantTree.Online_EWMA_QUantTree'>: 90, <class 'main_code.EWMA_QuantTree.Offline_EWMA_QuantTree'>: 1000},\n",
    "{<class 'main_code.incremental_QuantTree.Online_Incremental_QuantTree'>: 322, <class 'main_code.EWMA_QuantTree.Online_EWMA_QUantTree'>: 408, <class 'main_code.EWMA_QuantTree.Offline_EWMA_QuantTree'>: 1000},\n",
    "{<class 'main_code.incremental_QuantTree.Online_Incremental_QuantTree'>: 98, <class 'main_code.EWMA_QuantTree.Online_EWMA_QUantTree'>: 117, <class 'main_code.EWMA_QuantTree.Offline_EWMA_QuantTree'>: 1000},\n",
    "{<class 'main_code.incremental_QuantTree.Online_Incremental_QuantTree'>: 136, <class 'main_code.EWMA_QuantTree.Online_EWMA_QUantTree'>: 230, <class 'main_code.EWMA_QuantTree.Offline_EWMA_QuantTree'>: 1000},\n",
    "{<class 'main_code.incremental_QuantTree.Online_Incremental_QuantTree'>: 81, <class 'main_code.EWMA_QuantTree.Online_EWMA_QUantTree'>: 217, <class 'main_code.EWMA_QuantTree.Offline_EWMA_QuantTree'>: 1000},\n",
    "{<class 'main_code.incremental_QuantTree.Online_Incremental_QuantTree'>: 281, <class 'main_code.EWMA_QuantTree.Online_EWMA_QUantTree'>: 154, <class 'main_code.EWMA_QuantTree.Offline_EWMA_QuantTree'>: 1000},\n",
    "{<class 'main_code.incremental_QuantTree.Online_Incremental_QuantTree'>: 93, <class 'main_code.EWMA_QuantTree.Online_EWMA_QUantTree'>: 469, <class 'main_code.EWMA_QuantTree.Offline_EWMA_QuantTree'>: 1000},\n",
    "{<class 'main_code.incremental_QuantTree.Online_Incremental_QuantTree'>: 96, <class 'main_code.EWMA_QuantTree.Online_EWMA_QUantTree'>: 184, <class 'main_code.EWMA_QuantTree.Offline_EWMA_QuantTree'>: 1000},\n",
    "{<class 'main_code.incremental_QuantTree.Online_Incremental_QuantTree'>: 181, <class 'main_code.EWMA_QuantTree.Online_EWMA_QUantTree'>: 187, <class 'main_code.EWMA_QuantTree.Offline_EWMA_QuantTree'>: 1000},\n",
    "{<class 'main_code.incremental_QuantTree.Online_Incremental_QuantTree'>: 63, <class 'main_code.EWMA_QuantTree.Online_EWMA_QUantTree'>: 585, <class 'main_code.EWMA_QuantTree.Offline_EWMA_QuantTree'>: 1000},\n",
    "{<class 'main_code.incremental_QuantTree.Online_Incremental_QuantTree'>: 80, <class 'main_code.EWMA_QuantTree.Online_EWMA_QUantTree'>: 105, <class 'main_code.EWMA_QuantTree.Offline_EWMA_QuantTree'>: 1000},\n",
    "{<class 'main_code.incremental_QuantTree.Online_Incremental_QuantTree'>: 47, <class 'main_code.EWMA_QuantTree.Online_EWMA_QUantTree'>: 849, <class 'main_code.EWMA_QuantTree.Offline_EWMA_QuantTree'>: 1000},\n",
    "{<class 'main_code.incremental_QuantTree.Online_Incremental_QuantTree'>: 232, <class 'main_code.EWMA_QuantTree.Online_EWMA_QUantTree'>: 83, <class 'main_code.EWMA_QuantTree.Offline_EWMA_QuantTree'>: 1000},\n",
    "{<class 'main_code.incremental_QuantTree.Online_Incremental_QuantTree'>: 164, <class 'main_code.EWMA_QuantTree.Online_EWMA_QUantTree'>: 157, <class 'main_code.EWMA_QuantTree.Offline_EWMA_QuantTree'>: 1000},\n",
    "{<class 'main_code.incremental_QuantTree.Online_Incremental_QuantTree'>: 43, <class 'main_code.EWMA_QuantTree.Online_EWMA_QUantTree'>: 125, <class 'main_code.EWMA_QuantTree.Offline_EWMA_QuantTree'>: 1000},\n",
    "{<class 'main_code.incremental_QuantTree.Online_Incremental_QuantTree'>: 148, <class 'main_code.EWMA_QuantTree.Online_EWMA_QUantTree'>: 156, <class 'main_code.EWMA_QuantTree.Offline_EWMA_QuantTree'>: 1000},\n",
    "{<class 'main_code.incremental_QuantTree.Online_Incremental_QuantTree'>: 160, <class 'main_code.EWMA_QuantTree.Online_EWMA_QUantTree'>: 125, <class 'main_code.EWMA_QuantTree.Offline_EWMA_QuantTree'>: 1000},\n",
    "{<class 'main_code.incremental_QuantTree.Online_Incremental_QuantTree'>: 141, <class 'main_code.EWMA_QuantTree.Online_EWMA_QUantTree'>: 76, <class 'main_code.EWMA_QuantTree.Offline_EWMA_QuantTree'>: 1000}\"\"\"\n",
    "\n",
    "\n"
   ]
  },
  {
   "cell_type": "code",
   "execution_count": 4,
   "metadata": {},
   "outputs": [
    {
     "ename": "NameError",
     "evalue": "name 'string_0' is not defined",
     "output_type": "error",
     "traceback": [
      "\u001b[1;31m---------------------------------------------------------------------------\u001b[0m",
      "\u001b[1;31mNameError\u001b[0m                                 Traceback (most recent call last)",
      "\u001b[1;32m<ipython-input-4-5856319ff27e>\u001b[0m in \u001b[0;36m<module>\u001b[1;34m\u001b[0m\n\u001b[0;32m      1\u001b[0m object = {\n\u001b[0;32m      2\u001b[0m     \u001b[1;34m'change_point'\u001b[0m\u001b[1;33m:\u001b[0m \u001b[1;36m30\u001b[0m\u001b[1;33m,\u001b[0m\u001b[1;33m\u001b[0m\u001b[1;33m\u001b[0m\u001b[0m\n\u001b[1;32m----> 3\u001b[1;33m     \u001b[1;36m0\u001b[0m\u001b[1;33m:\u001b[0m \u001b[0mstring_0\u001b[0m\u001b[1;33m,\u001b[0m\u001b[1;33m\u001b[0m\u001b[1;33m\u001b[0m\u001b[0m\n\u001b[0m\u001b[0;32m      4\u001b[0m     \u001b[1;36m1\u001b[0m\u001b[1;33m:\u001b[0m \u001b[0mstring_1\u001b[0m\u001b[1;33m,\u001b[0m\u001b[1;33m\u001b[0m\u001b[1;33m\u001b[0m\u001b[0m\n\u001b[0;32m      5\u001b[0m     \u001b[1;36m10\u001b[0m\u001b[1;33m:\u001b[0m \u001b[0mstring_10\u001b[0m\u001b[1;33m\u001b[0m\u001b[1;33m\u001b[0m\u001b[0m\n",
      "\u001b[1;31mNameError\u001b[0m: name 'string_0' is not defined"
     ]
    }
   ],
   "source": [
    "object = {\n",
    "    'change_point': 30,\n",
    "    0: string_0,\n",
    "    1: string_1,\n",
    "    10: string_10\n",
    "}"
   ]
  },
  {
   "cell_type": "code",
   "execution_count": null,
   "metadata": {},
   "outputs": [],
   "source": [
    "object[0]\n"
   ]
  },
  {
   "cell_type": "code",
   "execution_count": 5,
   "metadata": {},
   "outputs": [
    {
     "ename": "TypeError",
     "evalue": "'type' object is not subscriptable",
     "output_type": "error",
     "traceback": [
      "\u001b[1;31m---------------------------------------------------------------------------\u001b[0m",
      "\u001b[1;31mTypeError\u001b[0m                                 Traceback (most recent call last)",
      "\u001b[1;32m<ipython-input-5-72c848492218>\u001b[0m in \u001b[0;36m<module>\u001b[1;34m\u001b[0m\n\u001b[1;32m----> 1\u001b[1;33m \u001b[0mobject\u001b[0m\u001b[1;33m[\u001b[0m\u001b[1;36m1\u001b[0m\u001b[1;33m]\u001b[0m\u001b[1;33m\u001b[0m\u001b[1;33m\u001b[0m\u001b[0m\n\u001b[0m",
      "\u001b[1;31mTypeError\u001b[0m: 'type' object is not subscriptable"
     ]
    }
   ],
   "source": [
    "object[1]"
   ]
  },
  {
   "cell_type": "code",
   "execution_count": 6,
   "metadata": {},
   "outputs": [
    {
     "ename": "TypeError",
     "evalue": "'type' object is not subscriptable",
     "output_type": "error",
     "traceback": [
      "\u001b[1;31m---------------------------------------------------------------------------\u001b[0m",
      "\u001b[1;31mTypeError\u001b[0m                                 Traceback (most recent call last)",
      "\u001b[1;32m<ipython-input-6-2bad9fbbfb34>\u001b[0m in \u001b[0;36m<module>\u001b[1;34m\u001b[0m\n\u001b[1;32m----> 1\u001b[1;33m \u001b[0mobject\u001b[0m\u001b[1;33m[\u001b[0m\u001b[1;36m10\u001b[0m\u001b[1;33m]\u001b[0m\u001b[1;33m\u001b[0m\u001b[1;33m\u001b[0m\u001b[0m\n\u001b[0m",
      "\u001b[1;31mTypeError\u001b[0m: 'type' object is not subscriptable"
     ]
    }
   ],
   "source": [
    "object[10]"
   ]
  },
  {
   "cell_type": "raw",
   "metadata": {},
   "source": []
  },
  {
   "cell_type": "code",
   "execution_count": 10,
   "metadata": {},
   "outputs": [
    {
     "data": {
      "image/png": "[encoded data removed]",
      "text/plain": [
       "<Figure size 432x288 with 1 Axes>"
      ]
     },
     "metadata": {
      "needs_background": "light"
     },
     "output_type": "display_data"
    }
   ],
   "source": [
    "plt.boxplot(np.array([1000, 49, 1000, 1000, 70, 1000, 40, 1000, 1000, 1000, 1000, 114, 1000, 35, 1000, 1000, 1000, 1000, 1000, 53, 38, 1000, 1000, 1000, 60, 1000, 62, 1000, 54, 35, 1000, 1000, 1000, 30, 1000, 1000, 48, 1000, 42, 66, 1000, 31, 1000, 1000, 1000, 1000, 29, 1000, 1000, 1000, 140, 1000, 1000, 1000, 1000, 1000, 28, 1000, 1000, 1000, 1000, 1000, 1000, 78, 70, 132, 86, 84, 43, 164, 448, 319, 112, 108, 258, 48, 36, 37, 36, 555, 1000, 118, 1000, 120, 1000, 1000, 1000, 1000, 1000, 1000, 1000, 1000, 1000, 1000, 1000, 1000, 1000, 1000, 1000, 1000, 1000, 1000, 1000, 1000, 1000, 20, 1000, 271, 46, 154, 1000, 194, 1000, 1000, 420, 1000, 1000, 1000, 38, 403, 556, 172, 1000, 255, 74, 180]), showmeans=True)\n",
    "plt.show()"
   ]
  },
  {
   "cell_type": "code",
   "execution_count": 21,
   "metadata": {},
   "outputs": [
    {
     "data": {
      "image/png": "[encoded data removed]",
      "text/plain": [
       "<Figure size 432x288 with 1 Axes>"
      ]
     },
     "metadata": {
      "needs_background": "light"
     },
     "output_type": "display_data"
    }
   ],
   "source": [
    "online_ewma = [1000, 1000, 1000, 1000, 1000, 1000, 1000, 34, 1000, 1000, 1000, 1000, 1000, 1000, 1000, 1000, 1000, 1000, 1000, 1000, 1000, 1000, 66, 43, 1000, 43, 1000, 114, 1000, 106, 45, 58, 96, 1000, 1000, 1000, 72, 41, 1000, 37, 1000, 1000, 1000, 1000, 1000, 1000, 1000, 1000, 1000, 1000, 1000, 1000, 1000, 1000, 1000, 1000, 1000, 1000, 1000, 1000, 1000, 1000, 1000, 88, 40, 1000, 927, 1000, 144, 1000, 1000, 1000, 1000, 1000, 1000, 1000, 1000, 36, 37, 1000, 29, 1000, 1000, 126, 1000, 1000, 1000, 1000, 1000, 1000, 1000, 1000, 1000, 1000, 1000, 1000, 1000, 1000, 1000, 1000, 1000, 1000, 1000, 1000, 1000, 42, 1000, 1000, 1000, 1000, 1000, 1000, 1000, 1000, 1000, 1000, 1000, 1000, 1000, 1000, 1000, 1000, 1000, 1000, 1000, 1000]\n",
    "incremental =[250, 2, 349, 90, 24, 400, 430, 31, 119, 135, 172, 30, 88, 61, 104, 38, 59, 51, 52, 244, 13, 26, 26, 52, 118, 54, 137, 87, 51, 32, 29, 382, 18, 39, 3, 52, 6, 49, 52, 7, 39, 101, 2, 90, 23, 156, 13, 88, 102, 197, 15, 232, 352, 16, 179, 78, 9, 111, 291, 48, 312, 20, 204, 0, 0, 0, 80, 210, 106, 68, 20, 44, 214, 35, 36, 35, 15, 74, 49, 51, 68, 37, 15, 74, 0, 234, 36, 5, 71, 2, 44, 304, 8, 119, 103, 179, 13, 41, 22, 20, 66, 85, 47, 0, 38, 190, 25, 89, 160, 27, 350, 78, 16, 191, 74, 112, 129, 85, 157, 29, 125, 116, 39, 142, 96, 36]\n",
    "offline_ewma = [24, 15, 31, 34, 36, 20, 20, 66, 41, 34, 32, 42, 13, 23, 33, 48, 19, 34, 30, 35, 20, 33, 23, 23, 15, 30, 25, 32, 44, 20, 31, 24, 34, 25, 64, 34, 25, 26, 32, 37, 44, 38, 1000, 1000, 1000, 1000, 1000, 1000, 1000, 1000, 1000, 1000, 1000, 1000, 1000, 1000, 1000, 1000, 1000, 1000, 1000, 1000, 1000, 12, 15, 20, 23, 22, 26, 18, 21, 18, 25, 24, 15, 15, 27, 26, 17, 23, 19, 23, 17, 24, 1000, 1000, 1000, 1000, 1000, 1000, 1000, 1000, 1000, 1000, 1000, 1000, 1000, 1000, 1000, 1000, 1000, 1000, 1000, 1000, 1000, 80, 35, 66, 37, 36, 29, 45, 25, 30, 44, 36, 174, 32, 40, 70, 31, 29, 80, 65, 38, 38]\n",
    "\n",
    "plt.boxplot([online_ewma, incremental, offline_ewma], labels = ['online Ewma', 'incremental' , 'offline EWMa'], showmeans=True)\n",
    "plt.title('SKL = 0')\n",
    "plt.show()\n",
    "    "
   ]
  },
  {
   "cell_type": "code",
   "execution_count": 23,
   "metadata": {},
   "outputs": [
    {
     "data": {
      "image/png": "[encoded data removed]",
      "text/plain": [
       "<Figure size 432x288 with 1 Axes>"
      ]
     },
     "metadata": {
      "needs_background": "light"
     },
     "output_type": "display_data"
    }
   ],
   "source": [
    "online_ewma =[50, 54, 54, 49, 52, 46, 62, 43, 56, 54, 52, 50, 47, 60, 44, 53, 46, 49, 51, 49, 50, 45, 42, 42, 45, 47, 48, 45, 48, 44, 42, 42, 47, 43, 44, 45, 42, 47, 52, 50, 42, 45, 50, 42, 50, 42, 46, 42, 45, 45, 42, 44, 42, 47, 45, 42, 42, 42, 42, 42, 46, 50, 46, 52, 51, 51, 50, 51, 46, 47, 49, 67, 49, 58, 51, 49, 50, 42, 51, 52, 51, 50, 57, 46, 72, 43, 56, 50, 52, 57, 57, 51, 62, 50, 53, 56, 59, 48, 74, 66, 67, 54, 66, 52, 55, 44, 42, 42, 46, 45, 42, 45, 42, 45, 45, 45, 42, 45, 42, 45, 45, 47, 44, 45, 45, 45]\n",
    "incremental =[45, 80, 61, 40, 39, 37, 42, 38, 33, 37, 30, 48, 55, 41, 34, 34, 32, 44, 44, 35, 32, 30, 32, 39, 33, 30, 31, 35, 42, 35, 31, 30, 32, 33, 35, 32, 35, 30, 31, 30, 30, 32, 30, 31, 33, 30, 30, 33, 32, 37, 31, 30, 30, 39, 31, 34, 33, 30, 33, 34, 32, 36, 33, 51, 43, 35, 30, 34, 32, 32, 30, 45, 46, 36, 38, 32, 37, 34, 36, 41, 42, 32, 30, 38, 51, 34, 33, 37, 32, 46, 58, 35, 33, 31, 53, 37, 37, 40, 32, 32, 32, 33, 35, 37, 45, 30, 31, 31, 34, 37, 36, 31, 31, 39, 32, 34, 30, 34, 40, 30, 34, 38, 37, 32, 33, 31]\n",
    "offline_ewma = [1000, 124, 1000, 152, 1000, 1000, 136, 1000, 1000, 64, 1000, 1000, 1000, 1000, 65, 90, 1000, 60, 1000, 92, 1000, 50, 52, 54, 44, 59, 54, 50, 46, 58, 59, 51, 67, 44, 56, 50, 48, 70, 78, 65, 63, 64, 63, 50, 106, 46, 45, 53, 66, 55, 51, 63, 62, 49, 60, 52, 60, 59, 60, 50, 56, 60, 61, 59, 55, 60, 67, 84, 674, 75, 72, 142, 919, 853, 184, 68, 65, 319, 307, 90, 105, 63, 72, 63, 1000, 1000, 633, 51, 1000, 1000, 1000, 71, 1000, 76, 1000, 1000, 1000, 1000, 98, 1000, 1000, 1000, 1000, 58, 1000, 86, 62, 51, 65, 65, 61, 59, 68, 86, 112, 63, 62, 61, 68, 75, 58, 48, 160, 67, 84, 57]\n",
    "\n",
    "plt.boxplot([online_ewma, incremental], labels = ['online Ewma', 'incremental'], showmeans=True)\n",
    "plt.title('SKL = 0.5')\n",
    "plt.show()\n"
   ]
  },
  {
   "cell_type": "code",
   "execution_count": 25,
   "metadata": {},
   "outputs": [
    {
     "data": {
      "image/png": "[encoded data removed]",
      "text/plain": [
       "<Figure size 432x288 with 1 Axes>"
      ]
     },
     "metadata": {
      "needs_background": "light"
     },
     "output_type": "display_data"
    }
   ],
   "source": [
    "online_ewma =[70, 87, 190, 63, 202, 55, 193, 63, 69, 108, 258, 367, 75, 50, 409, 59, 67, 68, 56, 168, 377, 102, 1000, 1000, 1000, 1000, 1000, 1000, 1000, 1000, 1000, 1000, 1000, 1000, 1000, 1000, 1000, 1000, 1000, 1000, 1000, 273, 67, 182, 53, 73, 226, 63, 194, 662, 1000, 120, 73, 106, 270, 480, 264, 80, 50, 399, 57, 91, 112, 152, 70, 222, 929, 1000, 48, 104, 172, 88, 49, 106, 130, 1000, 92, 343, 51, 170, 102, 154, 60, 84, 387, 98, 57, 58, 146, 78, 162, 59, 565, 1000, 67, 49, 1000, 219, 92, 117, 343, 77, 1000, 98, 611, 68, 383, 252, 64, 62, 148, 61, 160, 59, 54, 61, 136, 77, 71, 142, 84, 114, 66, 314, 132, 84]\n",
    "incremental =[42, 44, 60, 79, 49, 35, 42, 127, 38, 109, 126, 58, 44, 53, 42, 66, 34, 36, 87, 102, 60, 77, 97, 84, 80, 47, 66, 73, 151, 195, 59, 189, 194, 84, 44, 102, 105, 84, 51, 82, 330, 337, 235, 56, 32, 182, 57, 39, 38, 39, 77, 89, 81, 95, 43, 39, 85, 220, 40, 54, 32, 36, 63, 38, 49, 89, 98, 33, 43, 107, 104, 39, 37, 45, 141, 64, 42, 92, 57, 34, 42, 51, 31, 49, 39, 64, 38, 33, 58, 33, 53, 47, 34, 122, 77, 81, 56, 62, 54, 141, 33, 40, 64, 50, 58, 125, 80, 38, 46, 84, 59, 69, 65, 130, 40, 88, 68, 81, 101, 163, 63, 94, 97, 48, 70, 45]\n",
    "\n",
    "plt.boxplot([online_ewma, incremental], labels = ['online Ewma', 'incremental'], showmeans=True)\n",
    "plt.title('SKL = 0.1')\n",
    "plt.show()"
   ]
  },
  {
   "cell_type": "code",
   "execution_count": 29,
   "metadata": {},
   "outputs": [],
   "source": []
  },
  {
   "cell_type": "code",
   "execution_count": null,
   "metadata": {},
   "outputs": [],
   "source": []
  }
 ],
 "metadata": {
  "kernelspec": {
   "display_name": "Python 3",
   "language": "python",
   "name": "python3"
  },
  "language_info": {
   "codemirror_mode": {
    "name": "ipython",
    "version": 3
   },
   "file_extension": ".py",
   "mimetype": "text/x-python",
   "name": "python",
   "nbconvert_exporter": "python",
   "pygments_lexer": "ipython3",
   "version": "3.7.6"
  }
 },
 "nbformat": 4,
 "nbformat_minor": 4
}
