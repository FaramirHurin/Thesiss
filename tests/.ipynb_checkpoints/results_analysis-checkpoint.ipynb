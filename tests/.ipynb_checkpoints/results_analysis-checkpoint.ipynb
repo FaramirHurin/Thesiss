{
 "cells": [
  {
   "cell_type": "code",
   "execution_count": 5,
   "metadata": {},
   "outputs": [],
   "source": [
    "import pandas as pd\n",
    "import numpy as np\n",
    "import matplotlib.pyplot as plt\n",
    "import re"
   ]
  },
  {
   "cell_type": "code",
   "execution_count": 9,
   "metadata": {},
   "outputs": [],
   "source": [
    "\n",
    "Change_point = 30\n",
    "\n",
    "string_10 = \n",
    "{<class 'main_code.incremental_QuantTree.Online_Incremental_QuantTree'>: 30, <class 'main_code.EWMA_QuantTree.Online_EWMA_QUantTree'>: 53, <class 'main_code.EWMA_QuantTree.Offline_EWMA_QuantTree'>: 53},\n",
    "{<class 'main_code.incremental_QuantTree.Online_Incremental_QuantTree'>: 30, <class 'main_code.EWMA_QuantTree.Online_EWMA_QUantTree'>: 53, <class 'main_code.EWMA_QuantTree.Offline_EWMA_QuantTree'>: 53},\n",
    "{<class 'main_code.incremental_QuantTree.Online_Incremental_QuantTree'>: 30, <class 'main_code.EWMA_QuantTree.Online_EWMA_QUantTree'>: 53, <class 'main_code.EWMA_QuantTree.Offline_EWMA_QuantTree'>: 53},\n",
    "{<class 'main_code.incremental_QuantTree.Online_Incremental_QuantTree'>: 30, <class 'main_code.EWMA_QuantTree.Online_EWMA_QUantTree'>: 53, <class 'main_code.EWMA_QuantTree.Offline_EWMA_QuantTree'>: 53},\n",
    "{<class 'main_code.incremental_QuantTree.Online_Incremental_QuantTree'>: 30, <class 'main_code.EWMA_QuantTree.Online_EWMA_QUantTree'>: 53, <class 'main_code.EWMA_QuantTree.Offline_EWMA_QuantTree'>: 53},\n",
    "{<class 'main_code.incremental_QuantTree.Online_Incremental_QuantTree'>: 30, <class 'main_code.EWMA_QuantTree.Online_EWMA_QUantTree'>: 53, <class 'main_code.EWMA_QuantTree.Offline_EWMA_QuantTree'>: 53},\n",
    "{<class 'main_code.incremental_QuantTree.Online_Incremental_QuantTree'>: 30, <class 'main_code.EWMA_QuantTree.Online_EWMA_QUantTree'>: 55, <class 'main_code.EWMA_QuantTree.Offline_EWMA_QuantTree'>: 53},\n",
    "{<class 'main_code.incremental_QuantTree.Online_Incremental_QuantTree'>: 30, <class 'main_code.EWMA_QuantTree.Online_EWMA_QUantTree'>: 53, <class 'main_code.EWMA_QuantTree.Offline_EWMA_QuantTree'>: 54},\n",
    "{<class 'main_code.incremental_QuantTree.Online_Incremental_QuantTree'>: 30, <class 'main_code.EWMA_QuantTree.Online_EWMA_QUantTree'>: 53, <class 'main_code.EWMA_QuantTree.Offline_EWMA_QuantTree'>: 53},\n",
    "{<class 'main_code.incremental_QuantTree.Online_Incremental_QuantTree'>: 30, <class 'main_code.EWMA_QuantTree.Online_EWMA_QUantTree'>: 54, <class 'main_code.EWMA_QuantTree.Offline_EWMA_QuantTree'>: 53},\n",
    "{<class 'main_code.incremental_QuantTree.Online_Incremental_QuantTree'>: 30, <class 'main_code.EWMA_QuantTree.Online_EWMA_QUantTree'>: 53, <class 'main_code.EWMA_QuantTree.Offline_EWMA_QuantTree'>: 53},\n",
    "{<class 'main_code.incremental_QuantTree.Online_Incremental_QuantTree'>: 30, <class 'main_code.EWMA_QuantTree.Online_EWMA_QUantTree'>: 53, <class 'main_code.EWMA_QuantTree.Offline_EWMA_QuantTree'>: 53},\n",
    "{<class 'main_code.incremental_QuantTree.Online_Incremental_QuantTree'>: 30, <class 'main_code.EWMA_QuantTree.Online_EWMA_QUantTree'>: 53, <class 'main_code.EWMA_QuantTree.Offline_EWMA_QuantTree'>: 60},\n",
    "{<class 'main_code.incremental_QuantTree.Online_Incremental_QuantTree'>: 30, <class 'main_code.EWMA_QuantTree.Online_EWMA_QUantTree'>: 53, <class 'main_code.EWMA_QuantTree.Offline_EWMA_QuantTree'>: 53},\n",
    "{<class 'main_code.incremental_QuantTree.Online_Incremental_QuantTree'>: 30, <class 'main_code.EWMA_QuantTree.Online_EWMA_QUantTree'>: 53, <class 'main_code.EWMA_QuantTree.Offline_EWMA_QuantTree'>: 54},\n",
    "{<class 'main_code.incremental_QuantTree.Online_Incremental_QuantTree'>: 31, <class 'main_code.EWMA_QuantTree.Online_EWMA_QUantTree'>: 53, <class 'main_code.EWMA_QuantTree.Offline_EWMA_QuantTree'>: 55},\n",
    "{<class 'main_code.incremental_QuantTree.Online_Incremental_QuantTree'>: 30, <class 'main_code.EWMA_QuantTree.Online_EWMA_QUantTree'>: 54, <class 'main_code.EWMA_QuantTree.Offline_EWMA_QuantTree'>: 56},\n",
    "{<class 'main_code.incremental_QuantTree.Online_Incremental_QuantTree'>: 30, <class 'main_code.EWMA_QuantTree.Online_EWMA_QUantTree'>: 53, <class 'main_code.EWMA_QuantTree.Offline_EWMA_QuantTree'>: 56},\n",
    "{<class 'main_code.incremental_QuantTree.Online_Incremental_QuantTree'>: 30, <class 'main_code.EWMA_QuantTree.Online_EWMA_QUantTree'>: 53, <class 'main_code.EWMA_QuantTree.Offline_EWMA_QuantTree'>: 53},\n",
    "{<class 'main_code.incremental_QuantTree.Online_Incremental_QuantTree'>: 30, <class 'main_code.EWMA_QuantTree.Online_EWMA_QUantTree'>: 53, <class 'main_code.EWMA_QuantTree.Offline_EWMA_QuantTree'>: 53},\n",
    "{<class 'main_code.incremental_QuantTree.Online_Incremental_QuantTree'>: 30, <class 'main_code.EWMA_QuantTree.Online_EWMA_QUantTree'>: 53, <class 'main_code.EWMA_QuantTree.Offline_EWMA_QuantTree'>: 53},\n",
    "{<class 'main_code.incremental_QuantTree.Online_Incremental_QuantTree'>: 30, <class 'main_code.EWMA_QuantTree.Online_EWMA_QUantTree'>: 53, <class 'main_code.EWMA_QuantTree.Offline_EWMA_QuantTree'>: 53},\n",
    "{<class 'main_code.incremental_QuantTree.Online_Incremental_QuantTree'>: 30, <class 'main_code.EWMA_QuantTree.Online_EWMA_QUantTree'>: 53, <class 'main_code.EWMA_QuantTree.Offline_EWMA_QuantTree'>: 53},\n",
    "{<class 'main_code.incremental_QuantTree.Online_Incremental_QuantTree'>: 30, <class 'main_code.EWMA_QuantTree.Online_EWMA_QUantTree'>: 53, <class 'main_code.EWMA_QuantTree.Offline_EWMA_QuantTree'>: 53},\n",
    "{<class 'main_code.incremental_QuantTree.Online_Incremental_QuantTree'>: 30, <class 'main_code.EWMA_QuantTree.Online_EWMA_QUantTree'>: 61, <class 'main_code.EWMA_QuantTree.Offline_EWMA_QuantTree'>: 56},\n",
    "{<class 'main_code.incremental_QuantTree.Online_Incremental_QuantTree'>: 30, <class 'main_code.EWMA_QuantTree.Online_EWMA_QUantTree'>: 57, <class 'main_code.EWMA_QuantTree.Offline_EWMA_QuantTree'>: 58},\n",
    "{<class 'main_code.incremental_QuantTree.Online_Incremental_QuantTree'>: 31, <class 'main_code.EWMA_QuantTree.Online_EWMA_QUantTree'>: 60, <class 'main_code.EWMA_QuantTree.Offline_EWMA_QuantTree'>: 53},\n",
    "{<class 'main_code.incremental_QuantTree.Online_Incremental_QuantTree'>: 31, <class 'main_code.EWMA_QuantTree.Online_EWMA_QUantTree'>: 53, <class 'main_code.EWMA_QuantTree.Offline_EWMA_QuantTree'>: 54},\n",
    "{<class 'main_code.incremental_QuantTree.Online_Incremental_QuantTree'>: 30, <class 'main_code.EWMA_QuantTree.Online_EWMA_QUantTree'>: 53, <class 'main_code.EWMA_QuantTree.Offline_EWMA_QuantTree'>: 53},\n",
    "{<class 'main_code.incremental_QuantTree.Online_Incremental_QuantTree'>: 31, <class 'main_code.EWMA_QuantTree.Online_EWMA_QUantTree'>: 53, <class 'main_code.EWMA_QuantTree.Offline_EWMA_QuantTree'>: 53}\n",
    "\n",
    "string_1 = \n",
    "{<class 'main_code.incremental_QuantTree.Online_Incremental_QuantTree'>: 30, <class 'main_code.EWMA_QuantTree.Online_EWMA_QUantTree'>: 55, <class 'main_code.EWMA_QuantTree.Offline_EWMA_QuantTree'>: 53},\n",
    "{<class 'main_code.incremental_QuantTree.Online_Incremental_QuantTree'>: 30, <class 'main_code.EWMA_QuantTree.Online_EWMA_QUantTree'>: 53, <class 'main_code.EWMA_QuantTree.Offline_EWMA_QuantTree'>: 67},\n",
    "{<class 'main_code.incremental_QuantTree.Online_Incremental_QuantTree'>: 33, <class 'main_code.EWMA_QuantTree.Online_EWMA_QUantTree'>: 55, <class 'main_code.EWMA_QuantTree.Offline_EWMA_QuantTree'>: 56},\n",
    "{<class 'main_code.incremental_QuantTree.Online_Incremental_QuantTree'>: 33, <class 'main_code.EWMA_QuantTree.Online_EWMA_QUantTree'>: 57, <class 'main_code.EWMA_QuantTree.Offline_EWMA_QuantTree'>: 62},\n",
    "{<class 'main_code.incremental_QuantTree.Online_Incremental_QuantTree'>: 31, <class 'main_code.EWMA_QuantTree.Online_EWMA_QUantTree'>: 58, <class 'main_code.EWMA_QuantTree.Offline_EWMA_QuantTree'>: 61},\n",
    "{<class 'main_code.incremental_QuantTree.Online_Incremental_QuantTree'>: 31, <class 'main_code.EWMA_QuantTree.Online_EWMA_QUantTree'>: 57, <class 'main_code.EWMA_QuantTree.Offline_EWMA_QuantTree'>: 70},\n",
    "{<class 'main_code.incremental_QuantTree.Online_Incremental_QuantTree'>: 35, <class 'main_code.EWMA_QuantTree.Online_EWMA_QUantTree'>: 67, <class 'main_code.EWMA_QuantTree.Offline_EWMA_QuantTree'>: 141},\n",
    "{<class 'main_code.incremental_QuantTree.Online_Incremental_QuantTree'>: 31, <class 'main_code.EWMA_QuantTree.Online_EWMA_QUantTree'>: 56, <class 'main_code.EWMA_QuantTree.Offline_EWMA_QuantTree'>: 101},\n",
    "{<class 'main_code.incremental_QuantTree.Online_Incremental_QuantTree'>: 34, <class 'main_code.EWMA_QuantTree.Online_EWMA_QUantTree'>: 54, <class 'main_code.EWMA_QuantTree.Offline_EWMA_QuantTree'>: 130},\n",
    "{<class 'main_code.incremental_QuantTree.Online_Incremental_QuantTree'>: 47, <class 'main_code.EWMA_QuantTree.Online_EWMA_QUantTree'>: 67, <class 'main_code.EWMA_QuantTree.Offline_EWMA_QuantTree'>: 89},\n",
    "{<class 'main_code.incremental_QuantTree.Online_Incremental_QuantTree'>: 31, <class 'main_code.EWMA_QuantTree.Online_EWMA_QUantTree'>: 59, <class 'main_code.EWMA_QuantTree.Offline_EWMA_QuantTree'>: 76},\n",
    "{<class 'main_code.incremental_QuantTree.Online_Incremental_QuantTree'>: 32, <class 'main_code.EWMA_QuantTree.Online_EWMA_QUantTree'>: 55, <class 'main_code.EWMA_QuantTree.Offline_EWMA_QuantTree'>: 97},\n",
    "{<class 'main_code.incremental_QuantTree.Online_Incremental_QuantTree'>: 30, <class 'main_code.EWMA_QuantTree.Online_EWMA_QUantTree'>: 56, <class 'main_code.EWMA_QuantTree.Offline_EWMA_QuantTree'>: 56},\n",
    "{<class 'main_code.incremental_QuantTree.Online_Incremental_QuantTree'>: 30, <class 'main_code.EWMA_QuantTree.Online_EWMA_QUantTree'>: 53, <class 'main_code.EWMA_QuantTree.Offline_EWMA_QuantTree'>: 61},\n",
    "{<class 'main_code.incremental_QuantTree.Online_Incremental_QuantTree'>: 32, <class 'main_code.EWMA_QuantTree.Online_EWMA_QUantTree'>: 54, <class 'main_code.EWMA_QuantTree.Offline_EWMA_QuantTree'>: 67},\n",
    "{<class 'main_code.incremental_QuantTree.Online_Incremental_QuantTree'>: 30, <class 'main_code.EWMA_QuantTree.Online_EWMA_QUantTree'>: 53, <class 'main_code.EWMA_QuantTree.Offline_EWMA_QuantTree'>: 59},\n",
    "{<class 'main_code.incremental_QuantTree.Online_Incremental_QuantTree'>: 34, <class 'main_code.EWMA_QuantTree.Online_EWMA_QUantTree'>: 53, <class 'main_code.EWMA_QuantTree.Offline_EWMA_QuantTree'>: 61},\n",
    "{<class 'main_code.incremental_QuantTree.Online_Incremental_QuantTree'>: 30, <class 'main_code.EWMA_QuantTree.Online_EWMA_QUantTree'>: 57, <class 'main_code.EWMA_QuantTree.Offline_EWMA_QuantTree'>: 71},\n",
    "{<class 'main_code.incremental_QuantTree.Online_Incremental_QuantTree'>: 34, <class 'main_code.EWMA_QuantTree.Online_EWMA_QUantTree'>: 66, <class 'main_code.EWMA_QuantTree.Offline_EWMA_QuantTree'>: 220},\n",
    "{<class 'main_code.incremental_QuantTree.Online_Incremental_QuantTree'>: 37, <class 'main_code.EWMA_QuantTree.Online_EWMA_QUantTree'>: 74, <class 'main_code.EWMA_QuantTree.Offline_EWMA_QuantTree'>: 136},\n",
    "{<class 'main_code.incremental_QuantTree.Online_Incremental_QuantTree'>: 33, <class 'main_code.EWMA_QuantTree.Online_EWMA_QUantTree'>: 64, <class 'main_code.EWMA_QuantTree.Offline_EWMA_QuantTree'>: 560},\n",
    "{<class 'main_code.incremental_QuantTree.Online_Incremental_QuantTree'>: 30, <class 'main_code.EWMA_QuantTree.Online_EWMA_QUantTree'>: 63, <class 'main_code.EWMA_QuantTree.Offline_EWMA_QuantTree'>: 103},\n",
    "{<class 'main_code.incremental_QuantTree.Online_Incremental_QuantTree'>: 30, <class 'main_code.EWMA_QuantTree.Online_EWMA_QUantTree'>: 55, <class 'main_code.EWMA_QuantTree.Offline_EWMA_QuantTree'>: 81},\n",
    "{<class 'main_code.incremental_QuantTree.Online_Incremental_QuantTree'>: 31, <class 'main_code.EWMA_QuantTree.Online_EWMA_QUantTree'>: 63, <class 'main_code.EWMA_QuantTree.Offline_EWMA_QuantTree'>: 134},\n",
    "{<class 'main_code.incremental_QuantTree.Online_Incremental_QuantTree'>: 30, <class 'main_code.EWMA_QuantTree.Online_EWMA_QUantTree'>: 64, <class 'main_code.EWMA_QuantTree.Offline_EWMA_QuantTree'>: 166},\n",
    "{<class 'main_code.incremental_QuantTree.Online_Incremental_QuantTree'>: 30, <class 'main_code.EWMA_QuantTree.Online_EWMA_QUantTree'>: 57, <class 'main_code.EWMA_QuantTree.Offline_EWMA_QuantTree'>: 75},\n",
    "{<class 'main_code.incremental_QuantTree.Online_Incremental_QuantTree'>: 36, <class 'main_code.EWMA_QuantTree.Online_EWMA_QUantTree'>: 75, <class 'main_code.EWMA_QuantTree.Offline_EWMA_QuantTree'>: 109},\n",
    "{<class 'main_code.incremental_QuantTree.Online_Incremental_QuantTree'>: 33, <class 'main_code.EWMA_QuantTree.Online_EWMA_QUantTree'>: 67, <class 'main_code.EWMA_QuantTree.Offline_EWMA_QuantTree'>: 196},\n",
    "{<class 'main_code.incremental_QuantTree.Online_Incremental_QuantTree'>: 33, <class 'main_code.EWMA_QuantTree.Online_EWMA_QUantTree'>: 76, <class 'main_code.EWMA_QuantTree.Offline_EWMA_QuantTree'>: 137},\n",
    "{<class 'main_code.incremental_QuantTree.Online_Incremental_QuantTree'>: 37, <class 'main_code.EWMA_QuantTree.Online_EWMA_QUantTree'>: 62, <class 'main_code.EWMA_QuantTree.Offline_EWMA_QuantTree'>: 102}\n",
    "\n",
    "string_0 = \n",
    "{<class 'main_code.incremental_QuantTree.Online_Incremental_QuantTree'>: 68, <class 'main_code.EWMA_QuantTree.Online_EWMA_QUantTree'>: 765, <class 'main_code.EWMA_QuantTree.Offline_EWMA_QuantTree'>: 1000},\n",
    "{<class 'main_code.incremental_QuantTree.Online_Incremental_QuantTree'>: 64, <class 'main_code.EWMA_QuantTree.Online_EWMA_QUantTree'>: 129, <class 'main_code.EWMA_QuantTree.Offline_EWMA_QuantTree'>: 1000},\n",
    "{<class 'main_code.incremental_QuantTree.Online_Incremental_QuantTree'>: 517, <class 'main_code.EWMA_QuantTree.Online_EWMA_QUantTree'>: 152, <class 'main_code.EWMA_QuantTree.Offline_EWMA_QuantTree'>: 1000},\n",
    "{<class 'main_code.incremental_QuantTree.Online_Incremental_QuantTree'>: 97, <class 'main_code.EWMA_QuantTree.Online_EWMA_QUantTree'>: 195, <class 'main_code.EWMA_QuantTree.Offline_EWMA_QuantTree'>: 1000},\n",
    "{<class 'main_code.incremental_QuantTree.Online_Incremental_QuantTree'>: 168, <class 'main_code.EWMA_QuantTree.Online_EWMA_QUantTree'>: 104, <class 'main_code.EWMA_QuantTree.Offline_EWMA_QuantTree'>: 1000},\n",
    "{<class 'main_code.incremental_QuantTree.Online_Incremental_QuantTree'>: 45, <class 'main_code.EWMA_QuantTree.Online_EWMA_QUantTree'>: 405, <class 'main_code.EWMA_QuantTree.Offline_EWMA_QuantTree'>: 1000},\n",
    "{<class 'main_code.incremental_QuantTree.Online_Incremental_QuantTree'>: 349, <class 'main_code.EWMA_QuantTree.Online_EWMA_QUantTree'>: 115, <class 'main_code.EWMA_QuantTree.Offline_EWMA_QuantTree'>: 1000},\n",
    "{<class 'main_code.incremental_QuantTree.Online_Incremental_QuantTree'>: 44, <class 'main_code.EWMA_QuantTree.Online_EWMA_QUantTree'>: 254, <class 'main_code.EWMA_QuantTree.Offline_EWMA_QuantTree'>: 1000},\n",
    "{<class 'main_code.incremental_QuantTree.Online_Incremental_QuantTree'>: 262, <class 'main_code.EWMA_QuantTree.Online_EWMA_QUantTree'>: 307, <class 'main_code.EWMA_QuantTree.Offline_EWMA_QuantTree'>: 1000},\n",
    "{<class 'main_code.incremental_QuantTree.Online_Incremental_QuantTree'>: 69, <class 'main_code.EWMA_QuantTree.Online_EWMA_QUantTree'>: 748, <class 'main_code.EWMA_QuantTree.Offline_EWMA_QuantTree'>: 1000},\n",
    "{<class 'main_code.incremental_QuantTree.Online_Incremental_QuantTree'>: 165, <class 'main_code.EWMA_QuantTree.Online_EWMA_QUantTree'>: 147, <class 'main_code.EWMA_QuantTree.Offline_EWMA_QuantTree'>: 1000},\n",
    "{<class 'main_code.incremental_QuantTree.Online_Incremental_QuantTree'>: 205, <class 'main_code.EWMA_QuantTree.Online_EWMA_QUantTree'>: 378, <class 'main_code.EWMA_QuantTree.Offline_EWMA_QuantTree'>: 1000},\n",
    "{<class 'main_code.incremental_QuantTree.Online_Incremental_QuantTree'>: 451, <class 'main_code.EWMA_QuantTree.Online_EWMA_QUantTree'>: 90, <class 'main_code.EWMA_QuantTree.Offline_EWMA_QuantTree'>: 1000},\n",
    "{<class 'main_code.incremental_QuantTree.Online_Incremental_QuantTree'>: 322, <class 'main_code.EWMA_QuantTree.Online_EWMA_QUantTree'>: 408, <class 'main_code.EWMA_QuantTree.Offline_EWMA_QuantTree'>: 1000},\n",
    "{<class 'main_code.incremental_QuantTree.Online_Incremental_QuantTree'>: 98, <class 'main_code.EWMA_QuantTree.Online_EWMA_QUantTree'>: 117, <class 'main_code.EWMA_QuantTree.Offline_EWMA_QuantTree'>: 1000},\n",
    "{<class 'main_code.incremental_QuantTree.Online_Incremental_QuantTree'>: 136, <class 'main_code.EWMA_QuantTree.Online_EWMA_QUantTree'>: 230, <class 'main_code.EWMA_QuantTree.Offline_EWMA_QuantTree'>: 1000},\n",
    "{<class 'main_code.incremental_QuantTree.Online_Incremental_QuantTree'>: 81, <class 'main_code.EWMA_QuantTree.Online_EWMA_QUantTree'>: 217, <class 'main_code.EWMA_QuantTree.Offline_EWMA_QuantTree'>: 1000},\n",
    "{<class 'main_code.incremental_QuantTree.Online_Incremental_QuantTree'>: 281, <class 'main_code.EWMA_QuantTree.Online_EWMA_QUantTree'>: 154, <class 'main_code.EWMA_QuantTree.Offline_EWMA_QuantTree'>: 1000},\n",
    "{<class 'main_code.incremental_QuantTree.Online_Incremental_QuantTree'>: 93, <class 'main_code.EWMA_QuantTree.Online_EWMA_QUantTree'>: 469, <class 'main_code.EWMA_QuantTree.Offline_EWMA_QuantTree'>: 1000},\n",
    "{<class 'main_code.incremental_QuantTree.Online_Incremental_QuantTree'>: 96, <class 'main_code.EWMA_QuantTree.Online_EWMA_QUantTree'>: 184, <class 'main_code.EWMA_QuantTree.Offline_EWMA_QuantTree'>: 1000},\n",
    "{<class 'main_code.incremental_QuantTree.Online_Incremental_QuantTree'>: 181, <class 'main_code.EWMA_QuantTree.Online_EWMA_QUantTree'>: 187, <class 'main_code.EWMA_QuantTree.Offline_EWMA_QuantTree'>: 1000},\n",
    "{<class 'main_code.incremental_QuantTree.Online_Incremental_QuantTree'>: 63, <class 'main_code.EWMA_QuantTree.Online_EWMA_QUantTree'>: 585, <class 'main_code.EWMA_QuantTree.Offline_EWMA_QuantTree'>: 1000},\n",
    "{<class 'main_code.incremental_QuantTree.Online_Incremental_QuantTree'>: 80, <class 'main_code.EWMA_QuantTree.Online_EWMA_QUantTree'>: 105, <class 'main_code.EWMA_QuantTree.Offline_EWMA_QuantTree'>: 1000},\n",
    "{<class 'main_code.incremental_QuantTree.Online_Incremental_QuantTree'>: 47, <class 'main_code.EWMA_QuantTree.Online_EWMA_QUantTree'>: 849, <class 'main_code.EWMA_QuantTree.Offline_EWMA_QuantTree'>: 1000},\n",
    "{<class 'main_code.incremental_QuantTree.Online_Incremental_QuantTree'>: 232, <class 'main_code.EWMA_QuantTree.Online_EWMA_QUantTree'>: 83, <class 'main_code.EWMA_QuantTree.Offline_EWMA_QuantTree'>: 1000},\n",
    "{<class 'main_code.incremental_QuantTree.Online_Incremental_QuantTree'>: 164, <class 'main_code.EWMA_QuantTree.Online_EWMA_QUantTree'>: 157, <class 'main_code.EWMA_QuantTree.Offline_EWMA_QuantTree'>: 1000},\n",
    "{<class 'main_code.incremental_QuantTree.Online_Incremental_QuantTree'>: 43, <class 'main_code.EWMA_QuantTree.Online_EWMA_QUantTree'>: 125, <class 'main_code.EWMA_QuantTree.Offline_EWMA_QuantTree'>: 1000},\n",
    "{<class 'main_code.incremental_QuantTree.Online_Incremental_QuantTree'>: 148, <class 'main_code.EWMA_QuantTree.Online_EWMA_QUantTree'>: 156, <class 'main_code.EWMA_QuantTree.Offline_EWMA_QuantTree'>: 1000},\n",
    "{<class 'main_code.incremental_QuantTree.Online_Incremental_QuantTree'>: 160, <class 'main_code.EWMA_QuantTree.Online_EWMA_QUantTree'>: 125, <class 'main_code.EWMA_QuantTree.Offline_EWMA_QuantTree'>: 1000},\n",
    "{<class 'main_code.incremental_QuantTree.Online_Incremental_QuantTree'>: 141, <class 'main_code.EWMA_QuantTree.Online_EWMA_QUantTree'>: 76, <class 'main_code.EWMA_QuantTree.Offline_EWMA_QuantTree'>: 1000}\"\"\"\n",
    "\n",
    "\n"
   ]
  },
  {
   "cell_type": "code",
   "execution_count": 11,
   "metadata": {},
   "outputs": [],
   "source": [
    "object = {\n",
    "    'change_point': 30,\n",
    "    0: string_0,\n",
    "    1: string_1,\n",
    "    10: string_10\n",
    "}"
   ]
  },
  {
   "cell_type": "code",
   "execution_count": 13,
   "metadata": {},
   "outputs": [
    {
     "data": {
      "text/plain": [
       "\"{<class 'main_code.incremental_QuantTree.Online_Incremental_QuantTree'>: 68, <class 'main_code.EWMA_QuantTree.Online_EWMA_QUantTree'>: 765, <class 'main_code.EWMA_QuantTree.Offline_EWMA_QuantTree'>: 1000},\\n{<class 'main_code.incremental_QuantTree.Online_Incremental_QuantTree'>: 64, <class 'main_code.EWMA_QuantTree.Online_EWMA_QUantTree'>: 129, <class 'main_code.EWMA_QuantTree.Offline_EWMA_QuantTree'>: 1000},\\n{<class 'main_code.incremental_QuantTree.Online_Incremental_QuantTree'>: 517, <class 'main_code.EWMA_QuantTree.Online_EWMA_QUantTree'>: 152, <class 'main_code.EWMA_QuantTree.Offline_EWMA_QuantTree'>: 1000},\\n{<class 'main_code.incremental_QuantTree.Online_Incremental_QuantTree'>: 97, <class 'main_code.EWMA_QuantTree.Online_EWMA_QUantTree'>: 195, <class 'main_code.EWMA_QuantTree.Offline_EWMA_QuantTree'>: 1000},\\n{<class 'main_code.incremental_QuantTree.Online_Incremental_QuantTree'>: 168, <class 'main_code.EWMA_QuantTree.Online_EWMA_QUantTree'>: 104, <class 'main_code.EWMA_QuantTree.Offline_EWMA_QuantTree'>: 1000},\\n{<class 'main_code.incremental_QuantTree.Online_Incremental_QuantTree'>: 45, <class 'main_code.EWMA_QuantTree.Online_EWMA_QUantTree'>: 405, <class 'main_code.EWMA_QuantTree.Offline_EWMA_QuantTree'>: 1000},\\n{<class 'main_code.incremental_QuantTree.Online_Incremental_QuantTree'>: 349, <class 'main_code.EWMA_QuantTree.Online_EWMA_QUantTree'>: 115, <class 'main_code.EWMA_QuantTree.Offline_EWMA_QuantTree'>: 1000},\\n{<class 'main_code.incremental_QuantTree.Online_Incremental_QuantTree'>: 44, <class 'main_code.EWMA_QuantTree.Online_EWMA_QUantTree'>: 254, <class 'main_code.EWMA_QuantTree.Offline_EWMA_QuantTree'>: 1000},\\n{<class 'main_code.incremental_QuantTree.Online_Incremental_QuantTree'>: 262, <class 'main_code.EWMA_QuantTree.Online_EWMA_QUantTree'>: 307, <class 'main_code.EWMA_QuantTree.Offline_EWMA_QuantTree'>: 1000},\\n{<class 'main_code.incremental_QuantTree.Online_Incremental_QuantTree'>: 69, <class 'main_code.EWMA_QuantTree.Online_EWMA_QUantTree'>: 748, <class 'main_code.EWMA_QuantTree.Offline_EWMA_QuantTree'>: 1000},\\n{<class 'main_code.incremental_QuantTree.Online_Incremental_QuantTree'>: 165, <class 'main_code.EWMA_QuantTree.Online_EWMA_QUantTree'>: 147, <class 'main_code.EWMA_QuantTree.Offline_EWMA_QuantTree'>: 1000},\\n{<class 'main_code.incremental_QuantTree.Online_Incremental_QuantTree'>: 205, <class 'main_code.EWMA_QuantTree.Online_EWMA_QUantTree'>: 378, <class 'main_code.EWMA_QuantTree.Offline_EWMA_QuantTree'>: 1000},\\n{<class 'main_code.incremental_QuantTree.Online_Incremental_QuantTree'>: 451, <class 'main_code.EWMA_QuantTree.Online_EWMA_QUantTree'>: 90, <class 'main_code.EWMA_QuantTree.Offline_EWMA_QuantTree'>: 1000},\\n{<class 'main_code.incremental_QuantTree.Online_Incremental_QuantTree'>: 322, <class 'main_code.EWMA_QuantTree.Online_EWMA_QUantTree'>: 408, <class 'main_code.EWMA_QuantTree.Offline_EWMA_QuantTree'>: 1000},\\n{<class 'main_code.incremental_QuantTree.Online_Incremental_QuantTree'>: 98, <class 'main_code.EWMA_QuantTree.Online_EWMA_QUantTree'>: 117, <class 'main_code.EWMA_QuantTree.Offline_EWMA_QuantTree'>: 1000},\\n{<class 'main_code.incremental_QuantTree.Online_Incremental_QuantTree'>: 136, <class 'main_code.EWMA_QuantTree.Online_EWMA_QUantTree'>: 230, <class 'main_code.EWMA_QuantTree.Offline_EWMA_QuantTree'>: 1000},\\n{<class 'main_code.incremental_QuantTree.Online_Incremental_QuantTree'>: 81, <class 'main_code.EWMA_QuantTree.Online_EWMA_QUantTree'>: 217, <class 'main_code.EWMA_QuantTree.Offline_EWMA_QuantTree'>: 1000},\\n{<class 'main_code.incremental_QuantTree.Online_Incremental_QuantTree'>: 281, <class 'main_code.EWMA_QuantTree.Online_EWMA_QUantTree'>: 154, <class 'main_code.EWMA_QuantTree.Offline_EWMA_QuantTree'>: 1000},\\n{<class 'main_code.incremental_QuantTree.Online_Incremental_QuantTree'>: 93, <class 'main_code.EWMA_QuantTree.Online_EWMA_QUantTree'>: 469, <class 'main_code.EWMA_QuantTree.Offline_EWMA_QuantTree'>: 1000},\\n{<class 'main_code.incremental_QuantTree.Online_Incremental_QuantTree'>: 96, <class 'main_code.EWMA_QuantTree.Online_EWMA_QUantTree'>: 184, <class 'main_code.EWMA_QuantTree.Offline_EWMA_QuantTree'>: 1000},\\n{<class 'main_code.incremental_QuantTree.Online_Incremental_QuantTree'>: 181, <class 'main_code.EWMA_QuantTree.Online_EWMA_QUantTree'>: 187, <class 'main_code.EWMA_QuantTree.Offline_EWMA_QuantTree'>: 1000},\\n{<class 'main_code.incremental_QuantTree.Online_Incremental_QuantTree'>: 63, <class 'main_code.EWMA_QuantTree.Online_EWMA_QUantTree'>: 585, <class 'main_code.EWMA_QuantTree.Offline_EWMA_QuantTree'>: 1000},\\n{<class 'main_code.incremental_QuantTree.Online_Incremental_QuantTree'>: 80, <class 'main_code.EWMA_QuantTree.Online_EWMA_QUantTree'>: 105, <class 'main_code.EWMA_QuantTree.Offline_EWMA_QuantTree'>: 1000},\\n{<class 'main_code.incremental_QuantTree.Online_Incremental_QuantTree'>: 47, <class 'main_code.EWMA_QuantTree.Online_EWMA_QUantTree'>: 849, <class 'main_code.EWMA_QuantTree.Offline_EWMA_QuantTree'>: 1000},\\n{<class 'main_code.incremental_QuantTree.Online_Incremental_QuantTree'>: 232, <class 'main_code.EWMA_QuantTree.Online_EWMA_QUantTree'>: 83, <class 'main_code.EWMA_QuantTree.Offline_EWMA_QuantTree'>: 1000},\\n{<class 'main_code.incremental_QuantTree.Online_Incremental_QuantTree'>: 164, <class 'main_code.EWMA_QuantTree.Online_EWMA_QUantTree'>: 157, <class 'main_code.EWMA_QuantTree.Offline_EWMA_QuantTree'>: 1000},\\n{<class 'main_code.incremental_QuantTree.Online_Incremental_QuantTree'>: 43, <class 'main_code.EWMA_QuantTree.Online_EWMA_QUantTree'>: 125, <class 'main_code.EWMA_QuantTree.Offline_EWMA_QuantTree'>: 1000},\\n{<class 'main_code.incremental_QuantTree.Online_Incremental_QuantTree'>: 148, <class 'main_code.EWMA_QuantTree.Online_EWMA_QUantTree'>: 156, <class 'main_code.EWMA_QuantTree.Offline_EWMA_QuantTree'>: 1000},\\n{<class 'main_code.incremental_QuantTree.Online_Incremental_QuantTree'>: 160, <class 'main_code.EWMA_QuantTree.Online_EWMA_QUantTree'>: 125, <class 'main_code.EWMA_QuantTree.Offline_EWMA_QuantTree'>: 1000},\\n{<class 'main_code.incremental_QuantTree.Online_Incremental_QuantTree'>: 141, <class 'main_code.EWMA_QuantTree.Online_EWMA_QUantTree'>: 76, <class 'main_code.EWMA_QuantTree.Offline_EWMA_QuantTree'>: 1000}\""
      ]
     },
     "execution_count": 13,
     "metadata": {},
     "output_type": "execute_result"
    }
   ],
   "source": [
    "object[0]\n"
   ]
  },
  {
   "cell_type": "code",
   "execution_count": 14,
   "metadata": {},
   "outputs": [
    {
     "data": {
      "text/plain": [
       "\"{<class 'main_code.incremental_QuantTree.Online_Incremental_QuantTree'>: 30, <class 'main_code.EWMA_QuantTree.Online_EWMA_QUantTree'>: 55, <class 'main_code.EWMA_QuantTree.Offline_EWMA_QuantTree'>: 53},\\n{<class 'main_code.incremental_QuantTree.Online_Incremental_QuantTree'>: 30, <class 'main_code.EWMA_QuantTree.Online_EWMA_QUantTree'>: 53, <class 'main_code.EWMA_QuantTree.Offline_EWMA_QuantTree'>: 67},\\n{<class 'main_code.incremental_QuantTree.Online_Incremental_QuantTree'>: 33, <class 'main_code.EWMA_QuantTree.Online_EWMA_QUantTree'>: 55, <class 'main_code.EWMA_QuantTree.Offline_EWMA_QuantTree'>: 56},\\n{<class 'main_code.incremental_QuantTree.Online_Incremental_QuantTree'>: 33, <class 'main_code.EWMA_QuantTree.Online_EWMA_QUantTree'>: 57, <class 'main_code.EWMA_QuantTree.Offline_EWMA_QuantTree'>: 62},\\n{<class 'main_code.incremental_QuantTree.Online_Incremental_QuantTree'>: 31, <class 'main_code.EWMA_QuantTree.Online_EWMA_QUantTree'>: 58, <class 'main_code.EWMA_QuantTree.Offline_EWMA_QuantTree'>: 61},\\n{<class 'main_code.incremental_QuantTree.Online_Incremental_QuantTree'>: 31, <class 'main_code.EWMA_QuantTree.Online_EWMA_QUantTree'>: 57, <class 'main_code.EWMA_QuantTree.Offline_EWMA_QuantTree'>: 70},\\n{<class 'main_code.incremental_QuantTree.Online_Incremental_QuantTree'>: 35, <class 'main_code.EWMA_QuantTree.Online_EWMA_QUantTree'>: 67, <class 'main_code.EWMA_QuantTree.Offline_EWMA_QuantTree'>: 141},\\n{<class 'main_code.incremental_QuantTree.Online_Incremental_QuantTree'>: 31, <class 'main_code.EWMA_QuantTree.Online_EWMA_QUantTree'>: 56, <class 'main_code.EWMA_QuantTree.Offline_EWMA_QuantTree'>: 101},\\n{<class 'main_code.incremental_QuantTree.Online_Incremental_QuantTree'>: 34, <class 'main_code.EWMA_QuantTree.Online_EWMA_QUantTree'>: 54, <class 'main_code.EWMA_QuantTree.Offline_EWMA_QuantTree'>: 130},\\n{<class 'main_code.incremental_QuantTree.Online_Incremental_QuantTree'>: 47, <class 'main_code.EWMA_QuantTree.Online_EWMA_QUantTree'>: 67, <class 'main_code.EWMA_QuantTree.Offline_EWMA_QuantTree'>: 89},\\n{<class 'main_code.incremental_QuantTree.Online_Incremental_QuantTree'>: 31, <class 'main_code.EWMA_QuantTree.Online_EWMA_QUantTree'>: 59, <class 'main_code.EWMA_QuantTree.Offline_EWMA_QuantTree'>: 76},\\n{<class 'main_code.incremental_QuantTree.Online_Incremental_QuantTree'>: 32, <class 'main_code.EWMA_QuantTree.Online_EWMA_QUantTree'>: 55, <class 'main_code.EWMA_QuantTree.Offline_EWMA_QuantTree'>: 97},\\n{<class 'main_code.incremental_QuantTree.Online_Incremental_QuantTree'>: 30, <class 'main_code.EWMA_QuantTree.Online_EWMA_QUantTree'>: 56, <class 'main_code.EWMA_QuantTree.Offline_EWMA_QuantTree'>: 56},\\n{<class 'main_code.incremental_QuantTree.Online_Incremental_QuantTree'>: 30, <class 'main_code.EWMA_QuantTree.Online_EWMA_QUantTree'>: 53, <class 'main_code.EWMA_QuantTree.Offline_EWMA_QuantTree'>: 61},\\n{<class 'main_code.incremental_QuantTree.Online_Incremental_QuantTree'>: 32, <class 'main_code.EWMA_QuantTree.Online_EWMA_QUantTree'>: 54, <class 'main_code.EWMA_QuantTree.Offline_EWMA_QuantTree'>: 67},\\n{<class 'main_code.incremental_QuantTree.Online_Incremental_QuantTree'>: 30, <class 'main_code.EWMA_QuantTree.Online_EWMA_QUantTree'>: 53, <class 'main_code.EWMA_QuantTree.Offline_EWMA_QuantTree'>: 59},\\n{<class 'main_code.incremental_QuantTree.Online_Incremental_QuantTree'>: 34, <class 'main_code.EWMA_QuantTree.Online_EWMA_QUantTree'>: 53, <class 'main_code.EWMA_QuantTree.Offline_EWMA_QuantTree'>: 61},\\n{<class 'main_code.incremental_QuantTree.Online_Incremental_QuantTree'>: 30, <class 'main_code.EWMA_QuantTree.Online_EWMA_QUantTree'>: 57, <class 'main_code.EWMA_QuantTree.Offline_EWMA_QuantTree'>: 71},\\n{<class 'main_code.incremental_QuantTree.Online_Incremental_QuantTree'>: 34, <class 'main_code.EWMA_QuantTree.Online_EWMA_QUantTree'>: 66, <class 'main_code.EWMA_QuantTree.Offline_EWMA_QuantTree'>: 220},\\n{<class 'main_code.incremental_QuantTree.Online_Incremental_QuantTree'>: 37, <class 'main_code.EWMA_QuantTree.Online_EWMA_QUantTree'>: 74, <class 'main_code.EWMA_QuantTree.Offline_EWMA_QuantTree'>: 136},\\n{<class 'main_code.incremental_QuantTree.Online_Incremental_QuantTree'>: 33, <class 'main_code.EWMA_QuantTree.Online_EWMA_QUantTree'>: 64, <class 'main_code.EWMA_QuantTree.Offline_EWMA_QuantTree'>: 560},\\n{<class 'main_code.incremental_QuantTree.Online_Incremental_QuantTree'>: 30, <class 'main_code.EWMA_QuantTree.Online_EWMA_QUantTree'>: 63, <class 'main_code.EWMA_QuantTree.Offline_EWMA_QuantTree'>: 103},\\n{<class 'main_code.incremental_QuantTree.Online_Incremental_QuantTree'>: 30, <class 'main_code.EWMA_QuantTree.Online_EWMA_QUantTree'>: 55, <class 'main_code.EWMA_QuantTree.Offline_EWMA_QuantTree'>: 81},\\n{<class 'main_code.incremental_QuantTree.Online_Incremental_QuantTree'>: 31, <class 'main_code.EWMA_QuantTree.Online_EWMA_QUantTree'>: 63, <class 'main_code.EWMA_QuantTree.Offline_EWMA_QuantTree'>: 134},\\n{<class 'main_code.incremental_QuantTree.Online_Incremental_QuantTree'>: 30, <class 'main_code.EWMA_QuantTree.Online_EWMA_QUantTree'>: 64, <class 'main_code.EWMA_QuantTree.Offline_EWMA_QuantTree'>: 166},\\n{<class 'main_code.incremental_QuantTree.Online_Incremental_QuantTree'>: 30, <class 'main_code.EWMA_QuantTree.Online_EWMA_QUantTree'>: 57, <class 'main_code.EWMA_QuantTree.Offline_EWMA_QuantTree'>: 75},\\n{<class 'main_code.incremental_QuantTree.Online_Incremental_QuantTree'>: 36, <class 'main_code.EWMA_QuantTree.Online_EWMA_QUantTree'>: 75, <class 'main_code.EWMA_QuantTree.Offline_EWMA_QuantTree'>: 109},\\n{<class 'main_code.incremental_QuantTree.Online_Incremental_QuantTree'>: 33, <class 'main_code.EWMA_QuantTree.Online_EWMA_QUantTree'>: 67, <class 'main_code.EWMA_QuantTree.Offline_EWMA_QuantTree'>: 196},\\n{<class 'main_code.incremental_QuantTree.Online_Incremental_QuantTree'>: 33, <class 'main_code.EWMA_QuantTree.Online_EWMA_QUantTree'>: 76, <class 'main_code.EWMA_QuantTree.Offline_EWMA_QuantTree'>: 137},\\n{<class 'main_code.incremental_QuantTree.Online_Incremental_QuantTree'>: 37, <class 'main_code.EWMA_QuantTree.Online_EWMA_QUantTree'>: 62, <class 'main_code.EWMA_QuantTree.Offline_EWMA_QuantTree'>: 102}\""
      ]
     },
     "execution_count": 14,
     "metadata": {},
     "output_type": "execute_result"
    }
   ],
   "source": [
    "object[1]"
   ]
  },
  {
   "cell_type": "code",
   "execution_count": 15,
   "metadata": {},
   "outputs": [
    {
     "data": {
      "text/plain": [
       "\"{<class 'main_code.incremental_QuantTree.Online_Incremental_QuantTree'>: 30, <class 'main_code.EWMA_QuantTree.Online_EWMA_QUantTree'>: 53, <class 'main_code.EWMA_QuantTree.Offline_EWMA_QuantTree'>: 53},\\n{<class 'main_code.incremental_QuantTree.Online_Incremental_QuantTree'>: 30, <class 'main_code.EWMA_QuantTree.Online_EWMA_QUantTree'>: 53, <class 'main_code.EWMA_QuantTree.Offline_EWMA_QuantTree'>: 53},\\n{<class 'main_code.incremental_QuantTree.Online_Incremental_QuantTree'>: 30, <class 'main_code.EWMA_QuantTree.Online_EWMA_QUantTree'>: 53, <class 'main_code.EWMA_QuantTree.Offline_EWMA_QuantTree'>: 53},\\n{<class 'main_code.incremental_QuantTree.Online_Incremental_QuantTree'>: 30, <class 'main_code.EWMA_QuantTree.Online_EWMA_QUantTree'>: 53, <class 'main_code.EWMA_QuantTree.Offline_EWMA_QuantTree'>: 53},\\n{<class 'main_code.incremental_QuantTree.Online_Incremental_QuantTree'>: 30, <class 'main_code.EWMA_QuantTree.Online_EWMA_QUantTree'>: 53, <class 'main_code.EWMA_QuantTree.Offline_EWMA_QuantTree'>: 53},\\n{<class 'main_code.incremental_QuantTree.Online_Incremental_QuantTree'>: 30, <class 'main_code.EWMA_QuantTree.Online_EWMA_QUantTree'>: 53, <class 'main_code.EWMA_QuantTree.Offline_EWMA_QuantTree'>: 53},\\n{<class 'main_code.incremental_QuantTree.Online_Incremental_QuantTree'>: 30, <class 'main_code.EWMA_QuantTree.Online_EWMA_QUantTree'>: 55, <class 'main_code.EWMA_QuantTree.Offline_EWMA_QuantTree'>: 53},\\n{<class 'main_code.incremental_QuantTree.Online_Incremental_QuantTree'>: 30, <class 'main_code.EWMA_QuantTree.Online_EWMA_QUantTree'>: 53, <class 'main_code.EWMA_QuantTree.Offline_EWMA_QuantTree'>: 54},\\n{<class 'main_code.incremental_QuantTree.Online_Incremental_QuantTree'>: 30, <class 'main_code.EWMA_QuantTree.Online_EWMA_QUantTree'>: 53, <class 'main_code.EWMA_QuantTree.Offline_EWMA_QuantTree'>: 53},\\n{<class 'main_code.incremental_QuantTree.Online_Incremental_QuantTree'>: 30, <class 'main_code.EWMA_QuantTree.Online_EWMA_QUantTree'>: 54, <class 'main_code.EWMA_QuantTree.Offline_EWMA_QuantTree'>: 53},\\n{<class 'main_code.incremental_QuantTree.Online_Incremental_QuantTree'>: 30, <class 'main_code.EWMA_QuantTree.Online_EWMA_QUantTree'>: 53, <class 'main_code.EWMA_QuantTree.Offline_EWMA_QuantTree'>: 53},\\n{<class 'main_code.incremental_QuantTree.Online_Incremental_QuantTree'>: 30, <class 'main_code.EWMA_QuantTree.Online_EWMA_QUantTree'>: 53, <class 'main_code.EWMA_QuantTree.Offline_EWMA_QuantTree'>: 53},\\n{<class 'main_code.incremental_QuantTree.Online_Incremental_QuantTree'>: 30, <class 'main_code.EWMA_QuantTree.Online_EWMA_QUantTree'>: 53, <class 'main_code.EWMA_QuantTree.Offline_EWMA_QuantTree'>: 60},\\n{<class 'main_code.incremental_QuantTree.Online_Incremental_QuantTree'>: 30, <class 'main_code.EWMA_QuantTree.Online_EWMA_QUantTree'>: 53, <class 'main_code.EWMA_QuantTree.Offline_EWMA_QuantTree'>: 53},\\n{<class 'main_code.incremental_QuantTree.Online_Incremental_QuantTree'>: 30, <class 'main_code.EWMA_QuantTree.Online_EWMA_QUantTree'>: 53, <class 'main_code.EWMA_QuantTree.Offline_EWMA_QuantTree'>: 54},\\n{<class 'main_code.incremental_QuantTree.Online_Incremental_QuantTree'>: 31, <class 'main_code.EWMA_QuantTree.Online_EWMA_QUantTree'>: 53, <class 'main_code.EWMA_QuantTree.Offline_EWMA_QuantTree'>: 55},\\n{<class 'main_code.incremental_QuantTree.Online_Incremental_QuantTree'>: 30, <class 'main_code.EWMA_QuantTree.Online_EWMA_QUantTree'>: 54, <class 'main_code.EWMA_QuantTree.Offline_EWMA_QuantTree'>: 56},\\n{<class 'main_code.incremental_QuantTree.Online_Incremental_QuantTree'>: 30, <class 'main_code.EWMA_QuantTree.Online_EWMA_QUantTree'>: 53, <class 'main_code.EWMA_QuantTree.Offline_EWMA_QuantTree'>: 56},\\n{<class 'main_code.incremental_QuantTree.Online_Incremental_QuantTree'>: 30, <class 'main_code.EWMA_QuantTree.Online_EWMA_QUantTree'>: 53, <class 'main_code.EWMA_QuantTree.Offline_EWMA_QuantTree'>: 53},\\n{<class 'main_code.incremental_QuantTree.Online_Incremental_QuantTree'>: 30, <class 'main_code.EWMA_QuantTree.Online_EWMA_QUantTree'>: 53, <class 'main_code.EWMA_QuantTree.Offline_EWMA_QuantTree'>: 53},\\n{<class 'main_code.incremental_QuantTree.Online_Incremental_QuantTree'>: 30, <class 'main_code.EWMA_QuantTree.Online_EWMA_QUantTree'>: 53, <class 'main_code.EWMA_QuantTree.Offline_EWMA_QuantTree'>: 53},\\n{<class 'main_code.incremental_QuantTree.Online_Incremental_QuantTree'>: 30, <class 'main_code.EWMA_QuantTree.Online_EWMA_QUantTree'>: 53, <class 'main_code.EWMA_QuantTree.Offline_EWMA_QuantTree'>: 53},\\n{<class 'main_code.incremental_QuantTree.Online_Incremental_QuantTree'>: 30, <class 'main_code.EWMA_QuantTree.Online_EWMA_QUantTree'>: 53, <class 'main_code.EWMA_QuantTree.Offline_EWMA_QuantTree'>: 53},\\n{<class 'main_code.incremental_QuantTree.Online_Incremental_QuantTree'>: 30, <class 'main_code.EWMA_QuantTree.Online_EWMA_QUantTree'>: 53, <class 'main_code.EWMA_QuantTree.Offline_EWMA_QuantTree'>: 53},\\n{<class 'main_code.incremental_QuantTree.Online_Incremental_QuantTree'>: 30, <class 'main_code.EWMA_QuantTree.Online_EWMA_QUantTree'>: 61, <class 'main_code.EWMA_QuantTree.Offline_EWMA_QuantTree'>: 56},\\n{<class 'main_code.incremental_QuantTree.Online_Incremental_QuantTree'>: 30, <class 'main_code.EWMA_QuantTree.Online_EWMA_QUantTree'>: 57, <class 'main_code.EWMA_QuantTree.Offline_EWMA_QuantTree'>: 58},\\n{<class 'main_code.incremental_QuantTree.Online_Incremental_QuantTree'>: 31, <class 'main_code.EWMA_QuantTree.Online_EWMA_QUantTree'>: 60, <class 'main_code.EWMA_QuantTree.Offline_EWMA_QuantTree'>: 53},\\n{<class 'main_code.incremental_QuantTree.Online_Incremental_QuantTree'>: 31, <class 'main_code.EWMA_QuantTree.Online_EWMA_QUantTree'>: 53, <class 'main_code.EWMA_QuantTree.Offline_EWMA_QuantTree'>: 54},\\n{<class 'main_code.incremental_QuantTree.Online_Incremental_QuantTree'>: 30, <class 'main_code.EWMA_QuantTree.Online_EWMA_QUantTree'>: 53, <class 'main_code.EWMA_QuantTree.Offline_EWMA_QuantTree'>: 53},\\n{<class 'main_code.incremental_QuantTree.Online_Incremental_QuantTree'>: 31, <class 'main_code.EWMA_QuantTree.Online_EWMA_QUantTree'>: 53, <class 'main_code.EWMA_QuantTree.Offline_EWMA_QuantTree'>: 53}\""
      ]
     },
     "execution_count": 15,
     "metadata": {},
     "output_type": "execute_result"
    }
   ],
   "source": [
    "object[10]"
   ]
  },
  {
   "cell_type": "code",
   "execution_count": null,
   "metadata": {},
   "outputs": [],
   "source": []
  }
 ],
 "metadata": {
  "kernelspec": {
   "display_name": "Python 3",
   "language": "python",
   "name": "python3"
  },
  "language_info": {
   "codemirror_mode": {
    "name": "ipython",
    "version": 3
   },
   "file_extension": ".py",
   "mimetype": "text/x-python",
   "name": "python",
   "nbconvert_exporter": "python",
   "pygments_lexer": "ipython3",
   "version": "3.7.6"
  }
 },
 "nbformat": 4,
 "nbformat_minor": 4
}
